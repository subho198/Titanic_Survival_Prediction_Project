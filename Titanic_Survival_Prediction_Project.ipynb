{
 "cells": [
  {
   "cell_type": "code",
   "execution_count": 1,
   "id": "7fda1c26",
   "metadata": {},
   "outputs": [],
   "source": [
    "import numpy as np\n",
    "import pandas as pd\n",
    "import seaborn as sns\n",
    "import matplotlib.pyplot as plt\n",
    "%matplotlib inline"
   ]
  },
  {
   "cell_type": "code",
   "execution_count": 2,
   "id": "f79aba46",
   "metadata": {},
   "outputs": [],
   "source": [
    "import warnings\n",
    "warnings.filterwarnings('ignore')"
   ]
  },
  {
   "cell_type": "markdown",
   "id": "b52943c8",
   "metadata": {},
   "source": [
    "### Using Seaborn's Titanic Dataset:"
   ]
  },
  {
   "cell_type": "code",
   "execution_count": 3,
   "id": "2f119c21",
   "metadata": {},
   "outputs": [
    {
     "data": {
      "text/plain": [
       "['anagrams',\n",
       " 'anscombe',\n",
       " 'attention',\n",
       " 'brain_networks',\n",
       " 'car_crashes',\n",
       " 'diamonds',\n",
       " 'dots',\n",
       " 'exercise',\n",
       " 'flights',\n",
       " 'fmri',\n",
       " 'gammas',\n",
       " 'geyser',\n",
       " 'iris',\n",
       " 'mpg',\n",
       " 'penguins',\n",
       " 'planets',\n",
       " 'taxis',\n",
       " 'tips',\n",
       " 'titanic']"
      ]
     },
     "execution_count": 3,
     "metadata": {},
     "output_type": "execute_result"
    }
   ],
   "source": [
    "sns.get_dataset_names()"
   ]
  },
  {
   "cell_type": "code",
   "execution_count": 4,
   "id": "e1c0597d",
   "metadata": {},
   "outputs": [],
   "source": [
    "df=sns.load_dataset('titanic')"
   ]
  },
  {
   "cell_type": "markdown",
   "id": "fadc1fa7",
   "metadata": {},
   "source": [
    "### Basic Analysis of the DataFrame"
   ]
  },
  {
   "cell_type": "code",
   "execution_count": 5,
   "id": "382b56b0",
   "metadata": {},
   "outputs": [
    {
     "data": {
      "text/html": [
       "<div>\n",
       "<style scoped>\n",
       "    .dataframe tbody tr th:only-of-type {\n",
       "        vertical-align: middle;\n",
       "    }\n",
       "\n",
       "    .dataframe tbody tr th {\n",
       "        vertical-align: top;\n",
       "    }\n",
       "\n",
       "    .dataframe thead th {\n",
       "        text-align: right;\n",
       "    }\n",
       "</style>\n",
       "<table border=\"1\" class=\"dataframe\">\n",
       "  <thead>\n",
       "    <tr style=\"text-align: right;\">\n",
       "      <th></th>\n",
       "      <th>survived</th>\n",
       "      <th>pclass</th>\n",
       "      <th>sex</th>\n",
       "      <th>age</th>\n",
       "      <th>sibsp</th>\n",
       "      <th>parch</th>\n",
       "      <th>fare</th>\n",
       "      <th>embarked</th>\n",
       "      <th>class</th>\n",
       "      <th>who</th>\n",
       "      <th>adult_male</th>\n",
       "      <th>deck</th>\n",
       "      <th>embark_town</th>\n",
       "      <th>alive</th>\n",
       "      <th>alone</th>\n",
       "    </tr>\n",
       "  </thead>\n",
       "  <tbody>\n",
       "    <tr>\n",
       "      <th>0</th>\n",
       "      <td>0</td>\n",
       "      <td>3</td>\n",
       "      <td>male</td>\n",
       "      <td>22.0</td>\n",
       "      <td>1</td>\n",
       "      <td>0</td>\n",
       "      <td>7.2500</td>\n",
       "      <td>S</td>\n",
       "      <td>Third</td>\n",
       "      <td>man</td>\n",
       "      <td>True</td>\n",
       "      <td>NaN</td>\n",
       "      <td>Southampton</td>\n",
       "      <td>no</td>\n",
       "      <td>False</td>\n",
       "    </tr>\n",
       "    <tr>\n",
       "      <th>1</th>\n",
       "      <td>1</td>\n",
       "      <td>1</td>\n",
       "      <td>female</td>\n",
       "      <td>38.0</td>\n",
       "      <td>1</td>\n",
       "      <td>0</td>\n",
       "      <td>71.2833</td>\n",
       "      <td>C</td>\n",
       "      <td>First</td>\n",
       "      <td>woman</td>\n",
       "      <td>False</td>\n",
       "      <td>C</td>\n",
       "      <td>Cherbourg</td>\n",
       "      <td>yes</td>\n",
       "      <td>False</td>\n",
       "    </tr>\n",
       "    <tr>\n",
       "      <th>2</th>\n",
       "      <td>1</td>\n",
       "      <td>3</td>\n",
       "      <td>female</td>\n",
       "      <td>26.0</td>\n",
       "      <td>0</td>\n",
       "      <td>0</td>\n",
       "      <td>7.9250</td>\n",
       "      <td>S</td>\n",
       "      <td>Third</td>\n",
       "      <td>woman</td>\n",
       "      <td>False</td>\n",
       "      <td>NaN</td>\n",
       "      <td>Southampton</td>\n",
       "      <td>yes</td>\n",
       "      <td>True</td>\n",
       "    </tr>\n",
       "    <tr>\n",
       "      <th>3</th>\n",
       "      <td>1</td>\n",
       "      <td>1</td>\n",
       "      <td>female</td>\n",
       "      <td>35.0</td>\n",
       "      <td>1</td>\n",
       "      <td>0</td>\n",
       "      <td>53.1000</td>\n",
       "      <td>S</td>\n",
       "      <td>First</td>\n",
       "      <td>woman</td>\n",
       "      <td>False</td>\n",
       "      <td>C</td>\n",
       "      <td>Southampton</td>\n",
       "      <td>yes</td>\n",
       "      <td>False</td>\n",
       "    </tr>\n",
       "    <tr>\n",
       "      <th>4</th>\n",
       "      <td>0</td>\n",
       "      <td>3</td>\n",
       "      <td>male</td>\n",
       "      <td>35.0</td>\n",
       "      <td>0</td>\n",
       "      <td>0</td>\n",
       "      <td>8.0500</td>\n",
       "      <td>S</td>\n",
       "      <td>Third</td>\n",
       "      <td>man</td>\n",
       "      <td>True</td>\n",
       "      <td>NaN</td>\n",
       "      <td>Southampton</td>\n",
       "      <td>no</td>\n",
       "      <td>True</td>\n",
       "    </tr>\n",
       "  </tbody>\n",
       "</table>\n",
       "</div>"
      ],
      "text/plain": [
       "   survived  pclass     sex   age  sibsp  parch     fare embarked  class  \\\n",
       "0         0       3    male  22.0      1      0   7.2500        S  Third   \n",
       "1         1       1  female  38.0      1      0  71.2833        C  First   \n",
       "2         1       3  female  26.0      0      0   7.9250        S  Third   \n",
       "3         1       1  female  35.0      1      0  53.1000        S  First   \n",
       "4         0       3    male  35.0      0      0   8.0500        S  Third   \n",
       "\n",
       "     who  adult_male deck  embark_town alive  alone  \n",
       "0    man        True  NaN  Southampton    no  False  \n",
       "1  woman       False    C    Cherbourg   yes  False  \n",
       "2  woman       False  NaN  Southampton   yes   True  \n",
       "3  woman       False    C  Southampton   yes  False  \n",
       "4    man        True  NaN  Southampton    no   True  "
      ]
     },
     "execution_count": 5,
     "metadata": {},
     "output_type": "execute_result"
    }
   ],
   "source": [
    "df.head()"
   ]
  },
  {
   "cell_type": "code",
   "execution_count": 6,
   "id": "90e167fa",
   "metadata": {},
   "outputs": [
    {
     "name": "stdout",
     "output_type": "stream",
     "text": [
      "<class 'pandas.core.frame.DataFrame'>\n",
      "RangeIndex: 891 entries, 0 to 890\n",
      "Data columns (total 15 columns):\n",
      " #   Column       Non-Null Count  Dtype   \n",
      "---  ------       --------------  -----   \n",
      " 0   survived     891 non-null    int64   \n",
      " 1   pclass       891 non-null    int64   \n",
      " 2   sex          891 non-null    object  \n",
      " 3   age          714 non-null    float64 \n",
      " 4   sibsp        891 non-null    int64   \n",
      " 5   parch        891 non-null    int64   \n",
      " 6   fare         891 non-null    float64 \n",
      " 7   embarked     889 non-null    object  \n",
      " 8   class        891 non-null    category\n",
      " 9   who          891 non-null    object  \n",
      " 10  adult_male   891 non-null    bool    \n",
      " 11  deck         203 non-null    category\n",
      " 12  embark_town  889 non-null    object  \n",
      " 13  alive        891 non-null    object  \n",
      " 14  alone        891 non-null    bool    \n",
      "dtypes: bool(2), category(2), float64(2), int64(4), object(5)\n",
      "memory usage: 80.7+ KB\n"
     ]
    }
   ],
   "source": [
    "df.info()"
   ]
  },
  {
   "cell_type": "code",
   "execution_count": 7,
   "id": "ea257042",
   "metadata": {},
   "outputs": [
    {
     "data": {
      "text/html": [
       "<div>\n",
       "<style scoped>\n",
       "    .dataframe tbody tr th:only-of-type {\n",
       "        vertical-align: middle;\n",
       "    }\n",
       "\n",
       "    .dataframe tbody tr th {\n",
       "        vertical-align: top;\n",
       "    }\n",
       "\n",
       "    .dataframe thead th {\n",
       "        text-align: right;\n",
       "    }\n",
       "</style>\n",
       "<table border=\"1\" class=\"dataframe\">\n",
       "  <thead>\n",
       "    <tr style=\"text-align: right;\">\n",
       "      <th></th>\n",
       "      <th>survived</th>\n",
       "      <th>pclass</th>\n",
       "      <th>age</th>\n",
       "      <th>sibsp</th>\n",
       "      <th>parch</th>\n",
       "      <th>fare</th>\n",
       "    </tr>\n",
       "  </thead>\n",
       "  <tbody>\n",
       "    <tr>\n",
       "      <th>count</th>\n",
       "      <td>891.000000</td>\n",
       "      <td>891.000000</td>\n",
       "      <td>714.000000</td>\n",
       "      <td>891.000000</td>\n",
       "      <td>891.000000</td>\n",
       "      <td>891.000000</td>\n",
       "    </tr>\n",
       "    <tr>\n",
       "      <th>mean</th>\n",
       "      <td>0.383838</td>\n",
       "      <td>2.308642</td>\n",
       "      <td>29.699118</td>\n",
       "      <td>0.523008</td>\n",
       "      <td>0.381594</td>\n",
       "      <td>32.204208</td>\n",
       "    </tr>\n",
       "    <tr>\n",
       "      <th>std</th>\n",
       "      <td>0.486592</td>\n",
       "      <td>0.836071</td>\n",
       "      <td>14.526497</td>\n",
       "      <td>1.102743</td>\n",
       "      <td>0.806057</td>\n",
       "      <td>49.693429</td>\n",
       "    </tr>\n",
       "    <tr>\n",
       "      <th>min</th>\n",
       "      <td>0.000000</td>\n",
       "      <td>1.000000</td>\n",
       "      <td>0.420000</td>\n",
       "      <td>0.000000</td>\n",
       "      <td>0.000000</td>\n",
       "      <td>0.000000</td>\n",
       "    </tr>\n",
       "    <tr>\n",
       "      <th>25%</th>\n",
       "      <td>0.000000</td>\n",
       "      <td>2.000000</td>\n",
       "      <td>20.125000</td>\n",
       "      <td>0.000000</td>\n",
       "      <td>0.000000</td>\n",
       "      <td>7.910400</td>\n",
       "    </tr>\n",
       "    <tr>\n",
       "      <th>50%</th>\n",
       "      <td>0.000000</td>\n",
       "      <td>3.000000</td>\n",
       "      <td>28.000000</td>\n",
       "      <td>0.000000</td>\n",
       "      <td>0.000000</td>\n",
       "      <td>14.454200</td>\n",
       "    </tr>\n",
       "    <tr>\n",
       "      <th>75%</th>\n",
       "      <td>1.000000</td>\n",
       "      <td>3.000000</td>\n",
       "      <td>38.000000</td>\n",
       "      <td>1.000000</td>\n",
       "      <td>0.000000</td>\n",
       "      <td>31.000000</td>\n",
       "    </tr>\n",
       "    <tr>\n",
       "      <th>max</th>\n",
       "      <td>1.000000</td>\n",
       "      <td>3.000000</td>\n",
       "      <td>80.000000</td>\n",
       "      <td>8.000000</td>\n",
       "      <td>6.000000</td>\n",
       "      <td>512.329200</td>\n",
       "    </tr>\n",
       "  </tbody>\n",
       "</table>\n",
       "</div>"
      ],
      "text/plain": [
       "         survived      pclass         age       sibsp       parch        fare\n",
       "count  891.000000  891.000000  714.000000  891.000000  891.000000  891.000000\n",
       "mean     0.383838    2.308642   29.699118    0.523008    0.381594   32.204208\n",
       "std      0.486592    0.836071   14.526497    1.102743    0.806057   49.693429\n",
       "min      0.000000    1.000000    0.420000    0.000000    0.000000    0.000000\n",
       "25%      0.000000    2.000000   20.125000    0.000000    0.000000    7.910400\n",
       "50%      0.000000    3.000000   28.000000    0.000000    0.000000   14.454200\n",
       "75%      1.000000    3.000000   38.000000    1.000000    0.000000   31.000000\n",
       "max      1.000000    3.000000   80.000000    8.000000    6.000000  512.329200"
      ]
     },
     "execution_count": 7,
     "metadata": {},
     "output_type": "execute_result"
    }
   ],
   "source": [
    "df.describe()"
   ]
  },
  {
   "cell_type": "code",
   "execution_count": 8,
   "id": "c297a4e9",
   "metadata": {},
   "outputs": [
    {
     "data": {
      "text/plain": [
       "survived         0\n",
       "pclass           0\n",
       "sex              0\n",
       "age            177\n",
       "sibsp            0\n",
       "parch            0\n",
       "fare             0\n",
       "embarked         2\n",
       "class            0\n",
       "who              0\n",
       "adult_male       0\n",
       "deck           688\n",
       "embark_town      2\n",
       "alive            0\n",
       "alone            0\n",
       "dtype: int64"
      ]
     },
     "execution_count": 8,
     "metadata": {},
     "output_type": "execute_result"
    }
   ],
   "source": [
    "df.isnull().sum()"
   ]
  },
  {
   "cell_type": "code",
   "execution_count": 9,
   "id": "fc0e1705",
   "metadata": {},
   "outputs": [
    {
     "data": {
      "text/plain": [
       "<AxesSubplot:>"
      ]
     },
     "execution_count": 9,
     "metadata": {},
     "output_type": "execute_result"
    },
    {
     "data": {
      "image/png": "[encoded data removed]",
      "text/plain": [
       "<Figure size 864x576 with 2 Axes>"
      ]
     },
     "metadata": {
      "needs_background": "light"
     },
     "output_type": "display_data"
    }
   ],
   "source": [
    "plt.figure(figsize=(12,8))\n",
    "sns.heatmap(df.isnull())"
   ]
  },
  {
   "cell_type": "markdown",
   "id": "dcf8aabb",
   "metadata": {},
   "source": [
    "### Feature Engineering"
   ]
  },
  {
   "cell_type": "markdown",
   "id": "68a865b2",
   "metadata": {},
   "source": [
    "#### Handling Missing Values:"
   ]
  },
  {
   "cell_type": "code",
   "execution_count": 10,
   "id": "fc32bfe6",
   "metadata": {},
   "outputs": [
    {
     "data": {
      "text/plain": [
       "177"
      ]
     },
     "execution_count": 10,
     "metadata": {},
     "output_type": "execute_result"
    }
   ],
   "source": [
    "df['age'].isnull().sum()"
   ]
  },
  {
   "cell_type": "code",
   "execution_count": 11,
   "id": "01b83fdd",
   "metadata": {},
   "outputs": [
    {
     "data": {
      "text/plain": [
       "28.0"
      ]
     },
     "execution_count": 11,
     "metadata": {},
     "output_type": "execute_result"
    }
   ],
   "source": [
    "df['age'].median()"
   ]
  },
  {
   "cell_type": "code",
   "execution_count": 12,
   "id": "b8d642a9",
   "metadata": {},
   "outputs": [],
   "source": [
    "df['age'].fillna(df['age'].median(),inplace=True)"
   ]
  },
  {
   "cell_type": "code",
   "execution_count": 13,
   "id": "a87984ff",
   "metadata": {},
   "outputs": [
    {
     "data": {
      "text/plain": [
       "0"
      ]
     },
     "execution_count": 13,
     "metadata": {},
     "output_type": "execute_result"
    }
   ],
   "source": [
    "df['age'].isnull().sum()"
   ]
  },
  {
   "cell_type": "code",
   "execution_count": 14,
   "id": "3de99193",
   "metadata": {},
   "outputs": [
    {
     "data": {
      "text/plain": [
       "688"
      ]
     },
     "execution_count": 14,
     "metadata": {},
     "output_type": "execute_result"
    }
   ],
   "source": [
    "df['deck'].isnull().sum()"
   ]
  },
  {
   "cell_type": "markdown",
   "id": "6f13aa78",
   "metadata": {},
   "source": [
    "#### As there are too many missing values.. So, it is good to drop the entire column.."
   ]
  },
  {
   "cell_type": "code",
   "execution_count": 15,
   "id": "5ad93028",
   "metadata": {},
   "outputs": [],
   "source": [
    "df.drop(columns=['deck'],inplace=True)"
   ]
  },
  {
   "cell_type": "code",
   "execution_count": 16,
   "id": "897000c4",
   "metadata": {},
   "outputs": [
    {
     "data": {
      "text/plain": [
       "2"
      ]
     },
     "execution_count": 16,
     "metadata": {},
     "output_type": "execute_result"
    }
   ],
   "source": [
    "df['embark_town'].isnull().sum()"
   ]
  },
  {
   "cell_type": "code",
   "execution_count": 17,
   "id": "9cc4f045",
   "metadata": {},
   "outputs": [
    {
     "data": {
      "text/plain": [
       "'Southampton'"
      ]
     },
     "execution_count": 17,
     "metadata": {},
     "output_type": "execute_result"
    }
   ],
   "source": [
    "df['embark_town'].mode()[0]"
   ]
  },
  {
   "cell_type": "code",
   "execution_count": 18,
   "id": "f65bed33",
   "metadata": {},
   "outputs": [],
   "source": [
    "df['embark_town'].fillna(df['embark_town'].mode()[0],inplace=True)"
   ]
  },
  {
   "cell_type": "code",
   "execution_count": 19,
   "id": "c132abe7",
   "metadata": {},
   "outputs": [
    {
     "data": {
      "text/plain": [
       "0"
      ]
     },
     "execution_count": 19,
     "metadata": {},
     "output_type": "execute_result"
    }
   ],
   "source": [
    "df['embark_town'].isnull().sum()"
   ]
  },
  {
   "cell_type": "code",
   "execution_count": 20,
   "id": "22e420b7",
   "metadata": {},
   "outputs": [
    {
     "data": {
      "text/plain": [
       "2"
      ]
     },
     "execution_count": 20,
     "metadata": {},
     "output_type": "execute_result"
    }
   ],
   "source": [
    "df['embarked'].isnull().sum()"
   ]
  },
  {
   "cell_type": "code",
   "execution_count": 21,
   "id": "30e22fa3",
   "metadata": {},
   "outputs": [
    {
     "data": {
      "text/plain": [
       "'S'"
      ]
     },
     "execution_count": 21,
     "metadata": {},
     "output_type": "execute_result"
    }
   ],
   "source": [
    "df['embarked'].mode()[0]"
   ]
  },
  {
   "cell_type": "code",
   "execution_count": 22,
   "id": "ab8ca50f",
   "metadata": {},
   "outputs": [],
   "source": [
    "df['embarked'].fillna(df['embarked'].mode()[0],inplace=True)"
   ]
  },
  {
   "cell_type": "code",
   "execution_count": 23,
   "id": "2070d883",
   "metadata": {},
   "outputs": [
    {
     "data": {
      "text/plain": [
       "0"
      ]
     },
     "execution_count": 23,
     "metadata": {},
     "output_type": "execute_result"
    }
   ],
   "source": [
    "df['embarked'].isnull().sum()"
   ]
  },
  {
   "cell_type": "code",
   "execution_count": 24,
   "id": "4ad6b7c0",
   "metadata": {},
   "outputs": [
    {
     "data": {
      "text/plain": [
       "survived       0\n",
       "pclass         0\n",
       "sex            0\n",
       "age            0\n",
       "sibsp          0\n",
       "parch          0\n",
       "fare           0\n",
       "embarked       0\n",
       "class          0\n",
       "who            0\n",
       "adult_male     0\n",
       "embark_town    0\n",
       "alive          0\n",
       "alone          0\n",
       "dtype: int64"
      ]
     },
     "execution_count": 24,
     "metadata": {},
     "output_type": "execute_result"
    }
   ],
   "source": [
    "df.isnull().sum()"
   ]
  },
  {
   "cell_type": "code",
   "execution_count": 25,
   "id": "8c810a3e",
   "metadata": {},
   "outputs": [
    {
     "data": {
      "text/plain": [
       "<AxesSubplot:>"
      ]
     },
     "execution_count": 25,
     "metadata": {},
     "output_type": "execute_result"
    },
    {
     "data": {
      "image/png": "[encoded data removed]",
      "text/plain": [
       "<Figure size 864x576 with 2 Axes>"
      ]
     },
     "metadata": {
      "needs_background": "light"
     },
     "output_type": "display_data"
    }
   ],
   "source": [
    "plt.figure(figsize=(12,8))\n",
    "sns.heatmap(df.isnull())"
   ]
  },
  {
   "cell_type": "markdown",
   "id": "728b0bc6",
   "metadata": {},
   "source": [
    "### We have successfully handled all the missing values.."
   ]
  },
  {
   "cell_type": "code",
   "execution_count": 26,
   "id": "9e3aee61",
   "metadata": {},
   "outputs": [
    {
     "name": "stdout",
     "output_type": "stream",
     "text": [
      "<class 'pandas.core.frame.DataFrame'>\n",
      "RangeIndex: 891 entries, 0 to 890\n",
      "Data columns (total 14 columns):\n",
      " #   Column       Non-Null Count  Dtype   \n",
      "---  ------       --------------  -----   \n",
      " 0   survived     891 non-null    int64   \n",
      " 1   pclass       891 non-null    int64   \n",
      " 2   sex          891 non-null    object  \n",
      " 3   age          891 non-null    float64 \n",
      " 4   sibsp        891 non-null    int64   \n",
      " 5   parch        891 non-null    int64   \n",
      " 6   fare         891 non-null    float64 \n",
      " 7   embarked     891 non-null    object  \n",
      " 8   class        891 non-null    category\n",
      " 9   who          891 non-null    object  \n",
      " 10  adult_male   891 non-null    bool    \n",
      " 11  embark_town  891 non-null    object  \n",
      " 12  alive        891 non-null    object  \n",
      " 13  alone        891 non-null    bool    \n",
      "dtypes: bool(2), category(1), float64(2), int64(4), object(5)\n",
      "memory usage: 79.4+ KB\n"
     ]
    }
   ],
   "source": [
    "df.info()"
   ]
  },
  {
   "cell_type": "code",
   "execution_count": 27,
   "id": "df7e5d37",
   "metadata": {},
   "outputs": [
    {
     "data": {
      "text/plain": [
       "Index(['survived', 'pclass', 'sex', 'age', 'sibsp', 'parch', 'fare',\n",
       "       'embarked', 'class', 'who', 'adult_male', 'embark_town', 'alive',\n",
       "       'alone'],\n",
       "      dtype='object')"
      ]
     },
     "execution_count": 27,
     "metadata": {},
     "output_type": "execute_result"
    }
   ],
   "source": [
    "df.columns"
   ]
  },
  {
   "cell_type": "markdown",
   "id": "9d058cda",
   "metadata": {},
   "source": [
    "### Let's check the co-relation among the features.."
   ]
  },
  {
   "cell_type": "code",
   "execution_count": 28,
   "id": "9ab9880a",
   "metadata": {},
   "outputs": [
    {
     "data": {
      "text/html": [
       "<div>\n",
       "<style scoped>\n",
       "    .dataframe tbody tr th:only-of-type {\n",
       "        vertical-align: middle;\n",
       "    }\n",
       "\n",
       "    .dataframe tbody tr th {\n",
       "        vertical-align: top;\n",
       "    }\n",
       "\n",
       "    .dataframe thead th {\n",
       "        text-align: right;\n",
       "    }\n",
       "</style>\n",
       "<table border=\"1\" class=\"dataframe\">\n",
       "  <thead>\n",
       "    <tr style=\"text-align: right;\">\n",
       "      <th></th>\n",
       "      <th>survived</th>\n",
       "      <th>pclass</th>\n",
       "      <th>age</th>\n",
       "      <th>sibsp</th>\n",
       "      <th>parch</th>\n",
       "      <th>fare</th>\n",
       "      <th>adult_male</th>\n",
       "      <th>alone</th>\n",
       "    </tr>\n",
       "  </thead>\n",
       "  <tbody>\n",
       "    <tr>\n",
       "      <th>survived</th>\n",
       "      <td>1.000000</td>\n",
       "      <td>-0.338481</td>\n",
       "      <td>-0.064910</td>\n",
       "      <td>-0.035322</td>\n",
       "      <td>0.081629</td>\n",
       "      <td>0.257307</td>\n",
       "      <td>-0.557080</td>\n",
       "      <td>-0.203367</td>\n",
       "    </tr>\n",
       "    <tr>\n",
       "      <th>pclass</th>\n",
       "      <td>-0.338481</td>\n",
       "      <td>1.000000</td>\n",
       "      <td>-0.339898</td>\n",
       "      <td>0.083081</td>\n",
       "      <td>0.018443</td>\n",
       "      <td>-0.549500</td>\n",
       "      <td>0.094035</td>\n",
       "      <td>0.135207</td>\n",
       "    </tr>\n",
       "    <tr>\n",
       "      <th>age</th>\n",
       "      <td>-0.064910</td>\n",
       "      <td>-0.339898</td>\n",
       "      <td>1.000000</td>\n",
       "      <td>-0.233296</td>\n",
       "      <td>-0.172482</td>\n",
       "      <td>0.096688</td>\n",
       "      <td>0.247704</td>\n",
       "      <td>0.171647</td>\n",
       "    </tr>\n",
       "    <tr>\n",
       "      <th>sibsp</th>\n",
       "      <td>-0.035322</td>\n",
       "      <td>0.083081</td>\n",
       "      <td>-0.233296</td>\n",
       "      <td>1.000000</td>\n",
       "      <td>0.414838</td>\n",
       "      <td>0.159651</td>\n",
       "      <td>-0.253586</td>\n",
       "      <td>-0.584471</td>\n",
       "    </tr>\n",
       "    <tr>\n",
       "      <th>parch</th>\n",
       "      <td>0.081629</td>\n",
       "      <td>0.018443</td>\n",
       "      <td>-0.172482</td>\n",
       "      <td>0.414838</td>\n",
       "      <td>1.000000</td>\n",
       "      <td>0.216225</td>\n",
       "      <td>-0.349943</td>\n",
       "      <td>-0.583398</td>\n",
       "    </tr>\n",
       "    <tr>\n",
       "      <th>fare</th>\n",
       "      <td>0.257307</td>\n",
       "      <td>-0.549500</td>\n",
       "      <td>0.096688</td>\n",
       "      <td>0.159651</td>\n",
       "      <td>0.216225</td>\n",
       "      <td>1.000000</td>\n",
       "      <td>-0.182024</td>\n",
       "      <td>-0.271832</td>\n",
       "    </tr>\n",
       "    <tr>\n",
       "      <th>adult_male</th>\n",
       "      <td>-0.557080</td>\n",
       "      <td>0.094035</td>\n",
       "      <td>0.247704</td>\n",
       "      <td>-0.253586</td>\n",
       "      <td>-0.349943</td>\n",
       "      <td>-0.182024</td>\n",
       "      <td>1.000000</td>\n",
       "      <td>0.404744</td>\n",
       "    </tr>\n",
       "    <tr>\n",
       "      <th>alone</th>\n",
       "      <td>-0.203367</td>\n",
       "      <td>0.135207</td>\n",
       "      <td>0.171647</td>\n",
       "      <td>-0.584471</td>\n",
       "      <td>-0.583398</td>\n",
       "      <td>-0.271832</td>\n",
       "      <td>0.404744</td>\n",
       "      <td>1.000000</td>\n",
       "    </tr>\n",
       "  </tbody>\n",
       "</table>\n",
       "</div>"
      ],
      "text/plain": [
       "            survived    pclass       age     sibsp     parch      fare  \\\n",
       "survived    1.000000 -0.338481 -0.064910 -0.035322  0.081629  0.257307   \n",
       "pclass     -0.338481  1.000000 -0.339898  0.083081  0.018443 -0.549500   \n",
       "age        -0.064910 -0.339898  1.000000 -0.233296 -0.172482  0.096688   \n",
       "sibsp      -0.035322  0.083081 -0.233296  1.000000  0.414838  0.159651   \n",
       "parch       0.081629  0.018443 -0.172482  0.414838  1.000000  0.216225   \n",
       "fare        0.257307 -0.549500  0.096688  0.159651  0.216225  1.000000   \n",
       "adult_male -0.557080  0.094035  0.247704 -0.253586 -0.349943 -0.182024   \n",
       "alone      -0.203367  0.135207  0.171647 -0.584471 -0.583398 -0.271832   \n",
       "\n",
       "            adult_male     alone  \n",
       "survived     -0.557080 -0.203367  \n",
       "pclass        0.094035  0.135207  \n",
       "age           0.247704  0.171647  \n",
       "sibsp        -0.253586 -0.584471  \n",
       "parch        -0.349943 -0.583398  \n",
       "fare         -0.182024 -0.271832  \n",
       "adult_male    1.000000  0.404744  \n",
       "alone         0.404744  1.000000  "
      ]
     },
     "execution_count": 28,
     "metadata": {},
     "output_type": "execute_result"
    }
   ],
   "source": [
    "df.corr()"
   ]
  },
  {
   "cell_type": "code",
   "execution_count": 29,
   "id": "d688a09b",
   "metadata": {},
   "outputs": [
    {
     "data": {
      "text/plain": [
       "<AxesSubplot:>"
      ]
     },
     "execution_count": 29,
     "metadata": {},
     "output_type": "execute_result"
    },
    {
     "data": {
      "image/png": "[encoded data removed]",
      "text/plain": [
       "<Figure size 432x288 with 2 Axes>"
      ]
     },
     "metadata": {
      "needs_background": "light"
     },
     "output_type": "display_data"
    }
   ],
   "source": [
    "sns.heatmap(df.corr())"
   ]
  },
  {
   "cell_type": "code",
   "execution_count": 30,
   "id": "d19a7697",
   "metadata": {},
   "outputs": [
    {
     "data": {
      "text/plain": [
       "survived      1.000000\n",
       "pclass       -0.338481\n",
       "age          -0.064910\n",
       "sibsp        -0.035322\n",
       "parch         0.081629\n",
       "fare          0.257307\n",
       "adult_male   -0.557080\n",
       "alone        -0.203367\n",
       "dtype: float64"
      ]
     },
     "execution_count": 30,
     "metadata": {},
     "output_type": "execute_result"
    }
   ],
   "source": [
    "df.corrwith(df['survived'])"
   ]
  },
  {
   "cell_type": "code",
   "execution_count": 31,
   "id": "e1151ee7",
   "metadata": {},
   "outputs": [
    {
     "data": {
      "text/html": [
       "<div>\n",
       "<style scoped>\n",
       "    .dataframe tbody tr th:only-of-type {\n",
       "        vertical-align: middle;\n",
       "    }\n",
       "\n",
       "    .dataframe tbody tr th {\n",
       "        vertical-align: top;\n",
       "    }\n",
       "\n",
       "    .dataframe thead th {\n",
       "        text-align: right;\n",
       "    }\n",
       "</style>\n",
       "<table border=\"1\" class=\"dataframe\">\n",
       "  <thead>\n",
       "    <tr style=\"text-align: right;\">\n",
       "      <th></th>\n",
       "      <th>survived</th>\n",
       "      <th>pclass</th>\n",
       "      <th>sex</th>\n",
       "      <th>age</th>\n",
       "      <th>sibsp</th>\n",
       "      <th>parch</th>\n",
       "      <th>fare</th>\n",
       "      <th>embarked</th>\n",
       "      <th>class</th>\n",
       "      <th>who</th>\n",
       "      <th>adult_male</th>\n",
       "      <th>embark_town</th>\n",
       "      <th>alive</th>\n",
       "      <th>alone</th>\n",
       "    </tr>\n",
       "  </thead>\n",
       "  <tbody>\n",
       "    <tr>\n",
       "      <th>0</th>\n",
       "      <td>0</td>\n",
       "      <td>3</td>\n",
       "      <td>male</td>\n",
       "      <td>22.0</td>\n",
       "      <td>1</td>\n",
       "      <td>0</td>\n",
       "      <td>7.2500</td>\n",
       "      <td>S</td>\n",
       "      <td>Third</td>\n",
       "      <td>man</td>\n",
       "      <td>True</td>\n",
       "      <td>Southampton</td>\n",
       "      <td>no</td>\n",
       "      <td>False</td>\n",
       "    </tr>\n",
       "    <tr>\n",
       "      <th>1</th>\n",
       "      <td>1</td>\n",
       "      <td>1</td>\n",
       "      <td>female</td>\n",
       "      <td>38.0</td>\n",
       "      <td>1</td>\n",
       "      <td>0</td>\n",
       "      <td>71.2833</td>\n",
       "      <td>C</td>\n",
       "      <td>First</td>\n",
       "      <td>woman</td>\n",
       "      <td>False</td>\n",
       "      <td>Cherbourg</td>\n",
       "      <td>yes</td>\n",
       "      <td>False</td>\n",
       "    </tr>\n",
       "  </tbody>\n",
       "</table>\n",
       "</div>"
      ],
      "text/plain": [
       "   survived  pclass     sex   age  sibsp  parch     fare embarked  class  \\\n",
       "0         0       3    male  22.0      1      0   7.2500        S  Third   \n",
       "1         1       1  female  38.0      1      0  71.2833        C  First   \n",
       "\n",
       "     who  adult_male  embark_town alive  alone  \n",
       "0    man        True  Southampton    no  False  \n",
       "1  woman       False    Cherbourg   yes  False  "
      ]
     },
     "execution_count": 31,
     "metadata": {},
     "output_type": "execute_result"
    }
   ],
   "source": [
    "df.head(2)"
   ]
  },
  {
   "cell_type": "markdown",
   "id": "6394927b",
   "metadata": {},
   "source": [
    "### EDA"
   ]
  },
  {
   "cell_type": "code",
   "execution_count": 32,
   "id": "b9efa605",
   "metadata": {},
   "outputs": [],
   "source": [
    "sns.set_style('darkgrid')"
   ]
  },
  {
   "cell_type": "code",
   "execution_count": 33,
   "id": "cb85fab5",
   "metadata": {},
   "outputs": [
    {
     "data": {
      "text/plain": [
       "<AxesSubplot:xlabel='survived', ylabel='count'>"
      ]
     },
     "execution_count": 33,
     "metadata": {},
     "output_type": "execute_result"
    },
    {
     "data": {
      "image/png": "[encoded data removed]",
      "text/plain": [
       "<Figure size 432x288 with 1 Axes>"
      ]
     },
     "metadata": {},
     "output_type": "display_data"
    }
   ],
   "source": [
    "sns.countplot(df['survived'])"
   ]
  },
  {
   "cell_type": "code",
   "execution_count": 34,
   "id": "c02ec884",
   "metadata": {},
   "outputs": [
    {
     "data": {
      "text/plain": [
       "<AxesSubplot:xlabel='survived', ylabel='count'>"
      ]
     },
     "execution_count": 34,
     "metadata": {},
     "output_type": "execute_result"
    },
    {
     "data": {
      "image/png": "[encoded data removed]",
      "text/plain": [
       "<Figure size 432x288 with 1 Axes>"
      ]
     },
     "metadata": {},
     "output_type": "display_data"
    }
   ],
   "source": [
    "sns.countplot(df['survived'],hue=df['pclass'])"
   ]
  },
  {
   "cell_type": "code",
   "execution_count": 35,
   "id": "ed45516d",
   "metadata": {},
   "outputs": [
    {
     "data": {
      "text/plain": [
       "<AxesSubplot:xlabel='survived', ylabel='count'>"
      ]
     },
     "execution_count": 35,
     "metadata": {},
     "output_type": "execute_result"
    },
    {
     "data": {
      "image/png": "[encoded data removed]",
      "text/plain": [
       "<Figure size 432x288 with 1 Axes>"
      ]
     },
     "metadata": {},
     "output_type": "display_data"
    }
   ],
   "source": [
    "sns.countplot(df['survived'],hue=df['sex'])"
   ]
  },
  {
   "cell_type": "code",
   "execution_count": 36,
   "id": "2a5fe203",
   "metadata": {},
   "outputs": [
    {
     "data": {
      "text/plain": [
       "<AxesSubplot:xlabel='age', ylabel='Count'>"
      ]
     },
     "execution_count": 36,
     "metadata": {},
     "output_type": "execute_result"
    },
    {
     "data": {
      "image/png": "[encoded data removed]",
      "text/plain": [
       "<Figure size 432x288 with 1 Axes>"
      ]
     },
     "metadata": {},
     "output_type": "display_data"
    }
   ],
   "source": [
    "sns.histplot(df['age'])"
   ]
  },
  {
   "cell_type": "code",
   "execution_count": 37,
   "id": "23371566",
   "metadata": {},
   "outputs": [
    {
     "data": {
      "text/plain": [
       "<AxesSubplot:xlabel='age', ylabel='survived'>"
      ]
     },
     "execution_count": 37,
     "metadata": {},
     "output_type": "execute_result"
    },
    {
     "data": {
      "image/png": "[encoded data removed]",
      "text/plain": [
       "<Figure size 432x288 with 1 Axes>"
      ]
     },
     "metadata": {},
     "output_type": "display_data"
    }
   ],
   "source": [
    "sns.scatterplot(df['age'],df['survived'])"
   ]
  },
  {
   "cell_type": "code",
   "execution_count": 38,
   "id": "d6bc7bb8",
   "metadata": {},
   "outputs": [
    {
     "data": {
      "text/plain": [
       "<AxesSubplot:xlabel='age', ylabel='Count'>"
      ]
     },
     "execution_count": 38,
     "metadata": {},
     "output_type": "execute_result"
    },
    {
     "data": {
      "image/png": "[encoded data removed]",
      "text/plain": [
       "<Figure size 432x288 with 1 Axes>"
      ]
     },
     "metadata": {},
     "output_type": "display_data"
    }
   ],
   "source": [
    "sns.histplot(df['age'])"
   ]
  },
  {
   "cell_type": "code",
   "execution_count": 39,
   "id": "924c43e6",
   "metadata": {},
   "outputs": [
    {
     "data": {
      "text/plain": [
       "30.028233151183972"
      ]
     },
     "execution_count": 39,
     "metadata": {},
     "output_type": "execute_result"
    }
   ],
   "source": [
    "df[df['survived']==0]['age'].mean()"
   ]
  },
  {
   "cell_type": "code",
   "execution_count": 40,
   "id": "5d1264d0",
   "metadata": {},
   "outputs": [
    {
     "data": {
      "text/plain": [
       "28.29143274853801"
      ]
     },
     "execution_count": 40,
     "metadata": {},
     "output_type": "execute_result"
    }
   ],
   "source": [
    "df[df['survived']==1]['age'].mean()"
   ]
  },
  {
   "cell_type": "code",
   "execution_count": 41,
   "id": "5ccfb761",
   "metadata": {},
   "outputs": [
    {
     "data": {
      "image/png": "[encoded data removed]",
      "text/plain": [
       "<Figure size 864x576 with 1 Axes>"
      ]
     },
     "metadata": {},
     "output_type": "display_data"
    }
   ],
   "source": [
    "plt.figure(figsize=(12,8))\n",
    "plt.hist(df[df['survived']==0]['age'])\n",
    "plt.hist(df[df['survived']==1]['age'],alpha=.5)\n",
    "plt.xlabel('Age')\n",
    "plt.ylabel('Number of People')\n",
    "plt.legend([\"Not_Survived\", \"Survived\"], loc=0)\n",
    "plt.show()"
   ]
  },
  {
   "cell_type": "code",
   "execution_count": 42,
   "id": "c2e77e96",
   "metadata": {},
   "outputs": [
    {
     "data": {
      "text/plain": [
       "<matplotlib.legend.Legend at 0x203434cf2b0>"
      ]
     },
     "execution_count": 42,
     "metadata": {},
     "output_type": "execute_result"
    },
    {
     "data": {
      "image/png": "[encoded data removed]",
      "text/plain": [
       "<Figure size 864x576 with 1 Axes>"
      ]
     },
     "metadata": {},
     "output_type": "display_data"
    }
   ],
   "source": [
    "plt.figure(figsize=(12,8))\n",
    "sns.countplot(df['sibsp'],hue=df['survived'])\n",
    "plt.legend(loc=1)"
   ]
  },
  {
   "cell_type": "code",
   "execution_count": 43,
   "id": "d9d7e9df",
   "metadata": {},
   "outputs": [
    {
     "data": {
      "text/plain": [
       "<matplotlib.legend.Legend at 0x20344b35070>"
      ]
     },
     "execution_count": 43,
     "metadata": {},
     "output_type": "execute_result"
    },
    {
     "data": {
      "image/png": "[encoded data removed]",
      "text/plain": [
       "<Figure size 864x576 with 1 Axes>"
      ]
     },
     "metadata": {},
     "output_type": "display_data"
    }
   ],
   "source": [
    "plt.figure(figsize=(12,8))\n",
    "sns.countplot(df['parch'],hue=df['survived'])\n",
    "plt.legend(loc=1)"
   ]
  },
  {
   "cell_type": "code",
   "execution_count": 44,
   "id": "da45fbc8",
   "metadata": {},
   "outputs": [
    {
     "data": {
      "text/plain": [
       "<AxesSubplot:xlabel='age', ylabel='fare'>"
      ]
     },
     "execution_count": 44,
     "metadata": {},
     "output_type": "execute_result"
    },
    {
     "data": {
      "image/png": "[encoded data removed]",
      "text/plain": [
       "<Figure size 432x288 with 1 Axes>"
      ]
     },
     "metadata": {},
     "output_type": "display_data"
    }
   ],
   "source": [
    "sns.scatterplot(df['age'],df['fare'])"
   ]
  },
  {
   "cell_type": "code",
   "execution_count": 45,
   "id": "35ae9031",
   "metadata": {},
   "outputs": [
    {
     "data": {
      "text/plain": [
       "<AxesSubplot:xlabel='fare', ylabel='age'>"
      ]
     },
     "execution_count": 45,
     "metadata": {},
     "output_type": "execute_result"
    },
    {
     "data": {
      "image/png": "[encoded data removed]",
      "text/plain": [
       "<Figure size 432x288 with 1 Axes>"
      ]
     },
     "metadata": {},
     "output_type": "display_data"
    }
   ],
   "source": [
    "sns.scatterplot(df['fare'],df['age'])"
   ]
  },
  {
   "cell_type": "code",
   "execution_count": 46,
   "id": "60f68c96",
   "metadata": {},
   "outputs": [
    {
     "data": {
      "text/plain": [
       "<AxesSubplot:xlabel='fare', ylabel='Count'>"
      ]
     },
     "execution_count": 46,
     "metadata": {},
     "output_type": "execute_result"
    },
    {
     "data": {
      "image/png": "[encoded data removed]",
      "text/plain": [
       "<Figure size 432x288 with 1 Axes>"
      ]
     },
     "metadata": {},
     "output_type": "display_data"
    }
   ],
   "source": [
    "sns.histplot(df.fare,bins=20)"
   ]
  },
  {
   "cell_type": "code",
   "execution_count": 47,
   "id": "743b7350",
   "metadata": {},
   "outputs": [
    {
     "data": {
      "image/png": "[encoded data removed]",
      "text/plain": [
       "<Figure size 864x576 with 1 Axes>"
      ]
     },
     "metadata": {},
     "output_type": "display_data"
    }
   ],
   "source": [
    "plt.figure(figsize=(12,8))\n",
    "plt.hist(df[df['survived']==0]['fare'])\n",
    "plt.hist(df[df['survived']==1]['fare'],alpha=.5)\n",
    "plt.xlabel('Fare')\n",
    "plt.ylabel('Number of People')\n",
    "plt.legend([\"Not_Survived\", \"Survived\"], loc=0)\n",
    "plt.show()"
   ]
  },
  {
   "cell_type": "code",
   "execution_count": 48,
   "id": "d55adc3f",
   "metadata": {},
   "outputs": [
    {
     "data": {
      "text/plain": [
       "<AxesSubplot:xlabel='survived', ylabel='fare'>"
      ]
     },
     "execution_count": 48,
     "metadata": {},
     "output_type": "execute_result"
    },
    {
     "data": {
      "image/png": "[encoded data removed]",
      "text/plain": [
       "<Figure size 432x288 with 1 Axes>"
      ]
     },
     "metadata": {},
     "output_type": "display_data"
    }
   ],
   "source": [
    "sns.barplot(df['survived'],df['fare'])"
   ]
  },
  {
   "cell_type": "code",
   "execution_count": 49,
   "id": "77b08d52",
   "metadata": {},
   "outputs": [
    {
     "data": {
      "text/plain": [
       "<AxesSubplot:xlabel='survived', ylabel='fare'>"
      ]
     },
     "execution_count": 49,
     "metadata": {},
     "output_type": "execute_result"
    },
    {
     "data": {
      "image/png": "[encoded data removed]",
      "text/plain": [
       "<Figure size 432x288 with 1 Axes>"
      ]
     },
     "metadata": {},
     "output_type": "display_data"
    }
   ],
   "source": [
    "sns.barplot(df['survived'],df['fare'],hue=df['sex'])"
   ]
  },
  {
   "cell_type": "code",
   "execution_count": 50,
   "id": "532d5b2c",
   "metadata": {},
   "outputs": [
    {
     "data": {
      "text/plain": [
       "<AxesSubplot:xlabel='survived', ylabel='age'>"
      ]
     },
     "execution_count": 50,
     "metadata": {},
     "output_type": "execute_result"
    },
    {
     "data": {
      "image/png": "[encoded data removed]",
      "text/plain": [
       "<Figure size 432x288 with 1 Axes>"
      ]
     },
     "metadata": {},
     "output_type": "display_data"
    }
   ],
   "source": [
    "sns.barplot(df['survived'],df['age'])"
   ]
  },
  {
   "cell_type": "code",
   "execution_count": 51,
   "id": "83f93dfc",
   "metadata": {},
   "outputs": [
    {
     "data": {
      "text/plain": [
       "<AxesSubplot:xlabel='survived', ylabel='age'>"
      ]
     },
     "execution_count": 51,
     "metadata": {},
     "output_type": "execute_result"
    },
    {
     "data": {
      "image/png": "[encoded data removed]",
      "text/plain": [
       "<Figure size 432x288 with 1 Axes>"
      ]
     },
     "metadata": {},
     "output_type": "display_data"
    }
   ],
   "source": [
    "sns.barplot(df['survived'],df['age'],hue=df['sex'])"
   ]
  },
  {
   "cell_type": "code",
   "execution_count": 52,
   "id": "b4d7306e",
   "metadata": {},
   "outputs": [
    {
     "data": {
      "text/html": [
       "<div>\n",
       "<style scoped>\n",
       "    .dataframe tbody tr th:only-of-type {\n",
       "        vertical-align: middle;\n",
       "    }\n",
       "\n",
       "    .dataframe tbody tr th {\n",
       "        vertical-align: top;\n",
       "    }\n",
       "\n",
       "    .dataframe thead th {\n",
       "        text-align: right;\n",
       "    }\n",
       "</style>\n",
       "<table border=\"1\" class=\"dataframe\">\n",
       "  <thead>\n",
       "    <tr style=\"text-align: right;\">\n",
       "      <th></th>\n",
       "      <th>survived</th>\n",
       "      <th>pclass</th>\n",
       "      <th>sex</th>\n",
       "      <th>age</th>\n",
       "      <th>sibsp</th>\n",
       "      <th>parch</th>\n",
       "      <th>fare</th>\n",
       "      <th>embarked</th>\n",
       "      <th>class</th>\n",
       "      <th>who</th>\n",
       "      <th>adult_male</th>\n",
       "      <th>embark_town</th>\n",
       "      <th>alive</th>\n",
       "      <th>alone</th>\n",
       "    </tr>\n",
       "  </thead>\n",
       "  <tbody>\n",
       "    <tr>\n",
       "      <th>0</th>\n",
       "      <td>0</td>\n",
       "      <td>3</td>\n",
       "      <td>male</td>\n",
       "      <td>22.0</td>\n",
       "      <td>1</td>\n",
       "      <td>0</td>\n",
       "      <td>7.2500</td>\n",
       "      <td>S</td>\n",
       "      <td>Third</td>\n",
       "      <td>man</td>\n",
       "      <td>True</td>\n",
       "      <td>Southampton</td>\n",
       "      <td>no</td>\n",
       "      <td>False</td>\n",
       "    </tr>\n",
       "    <tr>\n",
       "      <th>1</th>\n",
       "      <td>1</td>\n",
       "      <td>1</td>\n",
       "      <td>female</td>\n",
       "      <td>38.0</td>\n",
       "      <td>1</td>\n",
       "      <td>0</td>\n",
       "      <td>71.2833</td>\n",
       "      <td>C</td>\n",
       "      <td>First</td>\n",
       "      <td>woman</td>\n",
       "      <td>False</td>\n",
       "      <td>Cherbourg</td>\n",
       "      <td>yes</td>\n",
       "      <td>False</td>\n",
       "    </tr>\n",
       "  </tbody>\n",
       "</table>\n",
       "</div>"
      ],
      "text/plain": [
       "   survived  pclass     sex   age  sibsp  parch     fare embarked  class  \\\n",
       "0         0       3    male  22.0      1      0   7.2500        S  Third   \n",
       "1         1       1  female  38.0      1      0  71.2833        C  First   \n",
       "\n",
       "     who  adult_male  embark_town alive  alone  \n",
       "0    man        True  Southampton    no  False  \n",
       "1  woman       False    Cherbourg   yes  False  "
      ]
     },
     "execution_count": 52,
     "metadata": {},
     "output_type": "execute_result"
    }
   ],
   "source": [
    "df.head(2)"
   ]
  },
  {
   "cell_type": "code",
   "execution_count": 53,
   "id": "913448ab",
   "metadata": {},
   "outputs": [
    {
     "data": {
      "text/plain": [
       "Index(['survived', 'pclass', 'sex', 'age', 'sibsp', 'parch', 'fare',\n",
       "       'embarked', 'class', 'who', 'adult_male', 'embark_town', 'alive',\n",
       "       'alone'],\n",
       "      dtype='object')"
      ]
     },
     "execution_count": 53,
     "metadata": {},
     "output_type": "execute_result"
    }
   ],
   "source": [
    "df.columns"
   ]
  },
  {
   "cell_type": "code",
   "execution_count": 54,
   "id": "1809d63d",
   "metadata": {},
   "outputs": [
    {
     "data": {
      "text/plain": [
       "<AxesSubplot:xlabel='survived', ylabel='count'>"
      ]
     },
     "execution_count": 54,
     "metadata": {},
     "output_type": "execute_result"
    },
    {
     "data": {
      "image/png": "[encoded data removed]",
      "text/plain": [
       "<Figure size 432x288 with 1 Axes>"
      ]
     },
     "metadata": {},
     "output_type": "display_data"
    }
   ],
   "source": [
    "sns.countplot(df['survived'],hue=df['embarked'])"
   ]
  },
  {
   "cell_type": "code",
   "execution_count": 55,
   "id": "22f3d026",
   "metadata": {},
   "outputs": [
    {
     "data": {
      "text/plain": [
       "<AxesSubplot:xlabel='survived', ylabel='count'>"
      ]
     },
     "execution_count": 55,
     "metadata": {},
     "output_type": "execute_result"
    },
    {
     "data": {
      "image/png": "[encoded data removed]",
      "text/plain": [
       "<Figure size 432x288 with 1 Axes>"
      ]
     },
     "metadata": {},
     "output_type": "display_data"
    }
   ],
   "source": [
    "sns.countplot(df['survived'],hue=df['class'])"
   ]
  },
  {
   "cell_type": "code",
   "execution_count": 56,
   "id": "d4739a2c",
   "metadata": {},
   "outputs": [
    {
     "data": {
      "text/plain": [
       "<AxesSubplot:xlabel='survived', ylabel='count'>"
      ]
     },
     "execution_count": 56,
     "metadata": {},
     "output_type": "execute_result"
    },
    {
     "data": {
      "image/png": "[encoded data removed]",
      "text/plain": [
       "<Figure size 432x288 with 1 Axes>"
      ]
     },
     "metadata": {},
     "output_type": "display_data"
    }
   ],
   "source": [
    "sns.countplot(df['survived'],hue=df['who'])"
   ]
  },
  {
   "cell_type": "code",
   "execution_count": 57,
   "id": "eac8643d",
   "metadata": {},
   "outputs": [
    {
     "data": {
      "text/plain": [
       "<AxesSubplot:xlabel='survived', ylabel='count'>"
      ]
     },
     "execution_count": 57,
     "metadata": {},
     "output_type": "execute_result"
    },
    {
     "data": {
      "image/png": "[encoded data removed]",
      "text/plain": [
       "<Figure size 432x288 with 1 Axes>"
      ]
     },
     "metadata": {},
     "output_type": "display_data"
    }
   ],
   "source": [
    "sns.countplot(df['survived'],hue=df['adult_male'])"
   ]
  },
  {
   "cell_type": "code",
   "execution_count": 58,
   "id": "43459564",
   "metadata": {},
   "outputs": [
    {
     "data": {
      "text/plain": [
       "<AxesSubplot:xlabel='survived', ylabel='count'>"
      ]
     },
     "execution_count": 58,
     "metadata": {},
     "output_type": "execute_result"
    },
    {
     "data": {
      "image/png": "[encoded data removed]",
      "text/plain": [
       "<Figure size 432x288 with 1 Axes>"
      ]
     },
     "metadata": {},
     "output_type": "display_data"
    }
   ],
   "source": [
    "sns.countplot(df['survived'],hue=df['embark_town'])"
   ]
  },
  {
   "cell_type": "code",
   "execution_count": 59,
   "id": "8fff54f3",
   "metadata": {},
   "outputs": [
    {
     "data": {
      "text/plain": [
       "<AxesSubplot:xlabel='survived', ylabel='count'>"
      ]
     },
     "execution_count": 59,
     "metadata": {},
     "output_type": "execute_result"
    },
    {
     "data": {
      "image/png": "[encoded data removed]",
      "text/plain": [
       "<Figure size 432x288 with 1 Axes>"
      ]
     },
     "metadata": {},
     "output_type": "display_data"
    }
   ],
   "source": [
    "sns.countplot(df['survived'],hue=df['alive'])"
   ]
  },
  {
   "cell_type": "code",
   "execution_count": 60,
   "id": "9e93b446",
   "metadata": {},
   "outputs": [
    {
     "data": {
      "text/plain": [
       "<AxesSubplot:xlabel='survived', ylabel='count'>"
      ]
     },
     "execution_count": 60,
     "metadata": {},
     "output_type": "execute_result"
    },
    {
     "data": {
      "image/png": "[encoded data removed]",
      "text/plain": [
       "<Figure size 432x288 with 1 Axes>"
      ]
     },
     "metadata": {},
     "output_type": "display_data"
    }
   ],
   "source": [
    "sns.countplot(df['survived'])"
   ]
  },
  {
   "cell_type": "code",
   "execution_count": 61,
   "id": "2a567578",
   "metadata": {},
   "outputs": [
    {
     "data": {
      "text/plain": [
       "<AxesSubplot:xlabel='alive', ylabel='count'>"
      ]
     },
     "execution_count": 61,
     "metadata": {},
     "output_type": "execute_result"
    },
    {
     "data": {
      "image/png": "[encoded data removed]",
      "text/plain": [
       "<Figure size 432x288 with 1 Axes>"
      ]
     },
     "metadata": {},
     "output_type": "display_data"
    }
   ],
   "source": [
    "sns.countplot(df['alive'])"
   ]
  },
  {
   "cell_type": "markdown",
   "id": "272a7222",
   "metadata": {},
   "source": [
    "#### Conclusion : Duplicate Data column must be dropped.."
   ]
  },
  {
   "cell_type": "code",
   "execution_count": 62,
   "id": "678466b3",
   "metadata": {},
   "outputs": [
    {
     "data": {
      "text/plain": [
       "<AxesSubplot:xlabel='survived', ylabel='count'>"
      ]
     },
     "execution_count": 62,
     "metadata": {},
     "output_type": "execute_result"
    },
    {
     "data": {
      "image/png": "[encoded data removed]",
      "text/plain": [
       "<Figure size 432x288 with 1 Axes>"
      ]
     },
     "metadata": {},
     "output_type": "display_data"
    }
   ],
   "source": [
    "sns.countplot(df['survived'],hue=df['alone'])"
   ]
  },
  {
   "cell_type": "code",
   "execution_count": 63,
   "id": "c6759ba2",
   "metadata": {},
   "outputs": [
    {
     "data": {
      "text/plain": [
       "<AxesSubplot:xlabel='survived', ylabel='count'>"
      ]
     },
     "execution_count": 63,
     "metadata": {},
     "output_type": "execute_result"
    },
    {
     "data": {
      "image/png": "[encoded data removed]",
      "text/plain": [
       "<Figure size 432x288 with 1 Axes>"
      ]
     },
     "metadata": {},
     "output_type": "display_data"
    }
   ],
   "source": [
    "sns.countplot(df['survived'],hue=df['embark_town'])"
   ]
  },
  {
   "cell_type": "code",
   "execution_count": 64,
   "id": "0b7d7ce3",
   "metadata": {},
   "outputs": [
    {
     "data": {
      "text/plain": [
       "<AxesSubplot:xlabel='survived', ylabel='count'>"
      ]
     },
     "execution_count": 64,
     "metadata": {},
     "output_type": "execute_result"
    },
    {
     "data": {
      "image/png": "[encoded data removed]",
      "text/plain": [
       "<Figure size 432x288 with 1 Axes>"
      ]
     },
     "metadata": {},
     "output_type": "display_data"
    }
   ],
   "source": [
    "sns.countplot(df['survived'],hue=df['embarked'])"
   ]
  },
  {
   "cell_type": "code",
   "execution_count": 65,
   "id": "de46c73c",
   "metadata": {},
   "outputs": [
    {
     "data": {
      "text/plain": [
       "<AxesSubplot:xlabel='sex', ylabel='count'>"
      ]
     },
     "execution_count": 65,
     "metadata": {},
     "output_type": "execute_result"
    },
    {
     "data": {
      "image/png": "[encoded data removed]",
      "text/plain": [
       "<Figure size 432x288 with 1 Axes>"
      ]
     },
     "metadata": {},
     "output_type": "display_data"
    }
   ],
   "source": [
    "sns.countplot(df['sex'])"
   ]
  },
  {
   "cell_type": "code",
   "execution_count": 66,
   "id": "0d929483",
   "metadata": {},
   "outputs": [
    {
     "data": {
      "text/plain": [
       "<AxesSubplot:xlabel='adult_male', ylabel='count'>"
      ]
     },
     "execution_count": 66,
     "metadata": {},
     "output_type": "execute_result"
    },
    {
     "data": {
      "image/png": "[encoded data removed]",
      "text/plain": [
       "<Figure size 432x288 with 1 Axes>"
      ]
     },
     "metadata": {},
     "output_type": "display_data"
    }
   ],
   "source": [
    "sns.countplot(df['adult_male'])"
   ]
  },
  {
   "cell_type": "markdown",
   "id": "714082f0",
   "metadata": {},
   "source": [
    "### Analysis :\n",
    "    1. The number of people not survived is greater than the number of people survived.\n",
    "    2. Class 3 Passengers died mostly and class 1 passengers survived mostly.\n",
    "    3. Out of Non_Survivers Males died mostly and Female Passengers survived mostly.\n",
    "    4. Most of the passengers are between 28-29 years of old.\n",
    "    5. Passengers with higher fare survided mostly.\n",
    "    6. Most of the People embarked from the Southampton.\n",
    "    7. There are duplicate columns in the data which must be dropped."
   ]
  },
  {
   "cell_type": "markdown",
   "id": "4ce62afd",
   "metadata": {},
   "source": [
    "### Before dropping the duplicate columns let's convert the categorical data into numerical data and then check the correlation."
   ]
  },
  {
   "cell_type": "code",
   "execution_count": 67,
   "id": "d1986a42",
   "metadata": {},
   "outputs": [
    {
     "data": {
      "text/html": [
       "<div>\n",
       "<style scoped>\n",
       "    .dataframe tbody tr th:only-of-type {\n",
       "        vertical-align: middle;\n",
       "    }\n",
       "\n",
       "    .dataframe tbody tr th {\n",
       "        vertical-align: top;\n",
       "    }\n",
       "\n",
       "    .dataframe thead th {\n",
       "        text-align: right;\n",
       "    }\n",
       "</style>\n",
       "<table border=\"1\" class=\"dataframe\">\n",
       "  <thead>\n",
       "    <tr style=\"text-align: right;\">\n",
       "      <th></th>\n",
       "      <th>survived</th>\n",
       "      <th>pclass</th>\n",
       "      <th>sex</th>\n",
       "      <th>age</th>\n",
       "      <th>sibsp</th>\n",
       "      <th>parch</th>\n",
       "      <th>fare</th>\n",
       "      <th>embarked</th>\n",
       "      <th>class</th>\n",
       "      <th>who</th>\n",
       "      <th>adult_male</th>\n",
       "      <th>embark_town</th>\n",
       "      <th>alive</th>\n",
       "      <th>alone</th>\n",
       "    </tr>\n",
       "  </thead>\n",
       "  <tbody>\n",
       "    <tr>\n",
       "      <th>0</th>\n",
       "      <td>0</td>\n",
       "      <td>3</td>\n",
       "      <td>male</td>\n",
       "      <td>22.0</td>\n",
       "      <td>1</td>\n",
       "      <td>0</td>\n",
       "      <td>7.2500</td>\n",
       "      <td>S</td>\n",
       "      <td>Third</td>\n",
       "      <td>man</td>\n",
       "      <td>True</td>\n",
       "      <td>Southampton</td>\n",
       "      <td>no</td>\n",
       "      <td>False</td>\n",
       "    </tr>\n",
       "    <tr>\n",
       "      <th>1</th>\n",
       "      <td>1</td>\n",
       "      <td>1</td>\n",
       "      <td>female</td>\n",
       "      <td>38.0</td>\n",
       "      <td>1</td>\n",
       "      <td>0</td>\n",
       "      <td>71.2833</td>\n",
       "      <td>C</td>\n",
       "      <td>First</td>\n",
       "      <td>woman</td>\n",
       "      <td>False</td>\n",
       "      <td>Cherbourg</td>\n",
       "      <td>yes</td>\n",
       "      <td>False</td>\n",
       "    </tr>\n",
       "  </tbody>\n",
       "</table>\n",
       "</div>"
      ],
      "text/plain": [
       "   survived  pclass     sex   age  sibsp  parch     fare embarked  class  \\\n",
       "0         0       3    male  22.0      1      0   7.2500        S  Third   \n",
       "1         1       1  female  38.0      1      0  71.2833        C  First   \n",
       "\n",
       "     who  adult_male  embark_town alive  alone  \n",
       "0    man        True  Southampton    no  False  \n",
       "1  woman       False    Cherbourg   yes  False  "
      ]
     },
     "execution_count": 67,
     "metadata": {},
     "output_type": "execute_result"
    }
   ],
   "source": [
    "df.head(2)"
   ]
  },
  {
   "cell_type": "code",
   "execution_count": 68,
   "id": "7eb5e216",
   "metadata": {},
   "outputs": [
    {
     "data": {
      "text/plain": [
       "array(['male', 'female'], dtype=object)"
      ]
     },
     "execution_count": 68,
     "metadata": {},
     "output_type": "execute_result"
    }
   ],
   "source": [
    "df.sex.unique()"
   ]
  },
  {
   "cell_type": "code",
   "execution_count": 69,
   "id": "cdc77a22",
   "metadata": {},
   "outputs": [],
   "source": [
    "df.sex.replace({'male':1,'female':0},inplace=True)"
   ]
  },
  {
   "cell_type": "code",
   "execution_count": 70,
   "id": "5e84c1e5",
   "metadata": {},
   "outputs": [
    {
     "data": {
      "text/plain": [
       "dtype('int64')"
      ]
     },
     "execution_count": 70,
     "metadata": {},
     "output_type": "execute_result"
    }
   ],
   "source": [
    "df.sex.dtype"
   ]
  },
  {
   "cell_type": "code",
   "execution_count": 71,
   "id": "50093acd",
   "metadata": {},
   "outputs": [
    {
     "data": {
      "text/plain": [
       "array(['S', 'C', 'Q'], dtype=object)"
      ]
     },
     "execution_count": 71,
     "metadata": {},
     "output_type": "execute_result"
    }
   ],
   "source": [
    "df.embarked.unique()"
   ]
  },
  {
   "cell_type": "code",
   "execution_count": 72,
   "id": "65f9a3b3",
   "metadata": {},
   "outputs": [],
   "source": [
    "df.embarked.replace({'S':1, 'C':2, 'Q':3},inplace=True)"
   ]
  },
  {
   "cell_type": "code",
   "execution_count": 73,
   "id": "98ba38c7",
   "metadata": {},
   "outputs": [
    {
     "data": {
      "text/plain": [
       "dtype('int64')"
      ]
     },
     "execution_count": 73,
     "metadata": {},
     "output_type": "execute_result"
    }
   ],
   "source": [
    "df.embarked.dtype"
   ]
  },
  {
   "cell_type": "code",
   "execution_count": 74,
   "id": "10d7ffa5",
   "metadata": {},
   "outputs": [
    {
     "data": {
      "text/plain": [
       "['Third', 'First', 'Second']\n",
       "Categories (3, object): ['First', 'Second', 'Third']"
      ]
     },
     "execution_count": 74,
     "metadata": {},
     "output_type": "execute_result"
    }
   ],
   "source": [
    "df['class'].unique()"
   ]
  },
  {
   "cell_type": "code",
   "execution_count": 75,
   "id": "196a6d4b",
   "metadata": {},
   "outputs": [],
   "source": [
    "df['class'].replace({'Third':3, 'First':1, 'Second':2},inplace=True)"
   ]
  },
  {
   "cell_type": "code",
   "execution_count": 76,
   "id": "1dc14701",
   "metadata": {},
   "outputs": [
    {
     "data": {
      "text/plain": [
       "dtype('int64')"
      ]
     },
     "execution_count": 76,
     "metadata": {},
     "output_type": "execute_result"
    }
   ],
   "source": [
    "df['class'].dtype"
   ]
  },
  {
   "cell_type": "code",
   "execution_count": 77,
   "id": "3e50790a",
   "metadata": {},
   "outputs": [
    {
     "data": {
      "text/plain": [
       "array(['man', 'woman', 'child'], dtype=object)"
      ]
     },
     "execution_count": 77,
     "metadata": {},
     "output_type": "execute_result"
    }
   ],
   "source": [
    "df['who'].unique()"
   ]
  },
  {
   "cell_type": "code",
   "execution_count": 78,
   "id": "dd425dc1",
   "metadata": {},
   "outputs": [],
   "source": [
    "df['who'].replace({'man':1, 'woman':2, 'child':3},inplace=True)"
   ]
  },
  {
   "cell_type": "code",
   "execution_count": 79,
   "id": "2989109b",
   "metadata": {},
   "outputs": [
    {
     "data": {
      "text/plain": [
       "dtype('int64')"
      ]
     },
     "execution_count": 79,
     "metadata": {},
     "output_type": "execute_result"
    }
   ],
   "source": [
    "df['who'].dtype"
   ]
  },
  {
   "cell_type": "code",
   "execution_count": 80,
   "id": "617a8adb",
   "metadata": {},
   "outputs": [
    {
     "data": {
      "text/plain": [
       "array([ True, False])"
      ]
     },
     "execution_count": 80,
     "metadata": {},
     "output_type": "execute_result"
    }
   ],
   "source": [
    "df['adult_male'].unique()"
   ]
  },
  {
   "cell_type": "code",
   "execution_count": 81,
   "id": "aaaa17a1",
   "metadata": {},
   "outputs": [],
   "source": [
    "df['adult_male'].replace({True:1, False:0},inplace=True)"
   ]
  },
  {
   "cell_type": "code",
   "execution_count": 82,
   "id": "32a45b7f",
   "metadata": {},
   "outputs": [
    {
     "data": {
      "text/plain": [
       "dtype('int64')"
      ]
     },
     "execution_count": 82,
     "metadata": {},
     "output_type": "execute_result"
    }
   ],
   "source": [
    "df['adult_male'].dtype"
   ]
  },
  {
   "cell_type": "code",
   "execution_count": 83,
   "id": "d0c554c3",
   "metadata": {},
   "outputs": [
    {
     "data": {
      "text/plain": [
       "array(['Southampton', 'Cherbourg', 'Queenstown'], dtype=object)"
      ]
     },
     "execution_count": 83,
     "metadata": {},
     "output_type": "execute_result"
    }
   ],
   "source": [
    "df['embark_town'].unique()"
   ]
  },
  {
   "cell_type": "code",
   "execution_count": 84,
   "id": "e75faa52",
   "metadata": {},
   "outputs": [],
   "source": [
    "df['embark_town'].replace({'Southampton':1, 'Cherbourg':2, 'Queenstown':3},inplace=True)"
   ]
  },
  {
   "cell_type": "code",
   "execution_count": 85,
   "id": "85bce504",
   "metadata": {},
   "outputs": [
    {
     "data": {
      "text/plain": [
       "dtype('int64')"
      ]
     },
     "execution_count": 85,
     "metadata": {},
     "output_type": "execute_result"
    }
   ],
   "source": [
    "df['embark_town'].dtype"
   ]
  },
  {
   "cell_type": "code",
   "execution_count": 86,
   "id": "5ee01897",
   "metadata": {},
   "outputs": [
    {
     "data": {
      "text/plain": [
       "array(['no', 'yes'], dtype=object)"
      ]
     },
     "execution_count": 86,
     "metadata": {},
     "output_type": "execute_result"
    }
   ],
   "source": [
    "df['alive'].unique()"
   ]
  },
  {
   "cell_type": "code",
   "execution_count": 87,
   "id": "b894422c",
   "metadata": {},
   "outputs": [],
   "source": [
    "df['alive'].replace({'no':0, 'yes':1},inplace=True)"
   ]
  },
  {
   "cell_type": "code",
   "execution_count": 88,
   "id": "655eb33b",
   "metadata": {},
   "outputs": [
    {
     "data": {
      "text/plain": [
       "dtype('int64')"
      ]
     },
     "execution_count": 88,
     "metadata": {},
     "output_type": "execute_result"
    }
   ],
   "source": [
    "df['alive'].dtype"
   ]
  },
  {
   "cell_type": "code",
   "execution_count": 89,
   "id": "93b54823",
   "metadata": {},
   "outputs": [
    {
     "data": {
      "text/plain": [
       "array([False,  True])"
      ]
     },
     "execution_count": 89,
     "metadata": {},
     "output_type": "execute_result"
    }
   ],
   "source": [
    "df['alone'].unique()"
   ]
  },
  {
   "cell_type": "code",
   "execution_count": 90,
   "id": "83c56746",
   "metadata": {},
   "outputs": [],
   "source": [
    "df['alone'].replace({True:1, False:0},inplace=True)"
   ]
  },
  {
   "cell_type": "code",
   "execution_count": 91,
   "id": "3b2f4617",
   "metadata": {},
   "outputs": [
    {
     "data": {
      "text/plain": [
       "dtype('int64')"
      ]
     },
     "execution_count": 91,
     "metadata": {},
     "output_type": "execute_result"
    }
   ],
   "source": [
    "df['alive'].dtype"
   ]
  },
  {
   "cell_type": "code",
   "execution_count": 92,
   "id": "ac8400bf",
   "metadata": {},
   "outputs": [
    {
     "name": "stdout",
     "output_type": "stream",
     "text": [
      "<class 'pandas.core.frame.DataFrame'>\n",
      "RangeIndex: 891 entries, 0 to 890\n",
      "Data columns (total 14 columns):\n",
      " #   Column       Non-Null Count  Dtype  \n",
      "---  ------       --------------  -----  \n",
      " 0   survived     891 non-null    int64  \n",
      " 1   pclass       891 non-null    int64  \n",
      " 2   sex          891 non-null    int64  \n",
      " 3   age          891 non-null    float64\n",
      " 4   sibsp        891 non-null    int64  \n",
      " 5   parch        891 non-null    int64  \n",
      " 6   fare         891 non-null    float64\n",
      " 7   embarked     891 non-null    int64  \n",
      " 8   class        891 non-null    int64  \n",
      " 9   who          891 non-null    int64  \n",
      " 10  adult_male   891 non-null    int64  \n",
      " 11  embark_town  891 non-null    int64  \n",
      " 12  alive        891 non-null    int64  \n",
      " 13  alone        891 non-null    int64  \n",
      "dtypes: float64(2), int64(12)\n",
      "memory usage: 97.6 KB\n"
     ]
    }
   ],
   "source": [
    "df.info()"
   ]
  },
  {
   "cell_type": "markdown",
   "id": "065d1de0",
   "metadata": {},
   "source": [
    "### All the features are converted into numberical features.."
   ]
  },
  {
   "cell_type": "markdown",
   "id": "5ac8392f",
   "metadata": {},
   "source": [
    "### Let's check the correlation.."
   ]
  },
  {
   "cell_type": "code",
   "execution_count": 93,
   "id": "82ac25bd",
   "metadata": {},
   "outputs": [
    {
     "data": {
      "text/html": [
       "<div>\n",
       "<style scoped>\n",
       "    .dataframe tbody tr th:only-of-type {\n",
       "        vertical-align: middle;\n",
       "    }\n",
       "\n",
       "    .dataframe tbody tr th {\n",
       "        vertical-align: top;\n",
       "    }\n",
       "\n",
       "    .dataframe thead th {\n",
       "        text-align: right;\n",
       "    }\n",
       "</style>\n",
       "<table border=\"1\" class=\"dataframe\">\n",
       "  <thead>\n",
       "    <tr style=\"text-align: right;\">\n",
       "      <th></th>\n",
       "      <th>survived</th>\n",
       "      <th>pclass</th>\n",
       "      <th>sex</th>\n",
       "      <th>age</th>\n",
       "      <th>sibsp</th>\n",
       "      <th>parch</th>\n",
       "      <th>fare</th>\n",
       "      <th>embarked</th>\n",
       "      <th>class</th>\n",
       "      <th>who</th>\n",
       "      <th>adult_male</th>\n",
       "      <th>embark_town</th>\n",
       "      <th>alive</th>\n",
       "      <th>alone</th>\n",
       "    </tr>\n",
       "  </thead>\n",
       "  <tbody>\n",
       "    <tr>\n",
       "      <th>survived</th>\n",
       "      <td>1.000000</td>\n",
       "      <td>-0.338481</td>\n",
       "      <td>-0.543351</td>\n",
       "      <td>-0.064910</td>\n",
       "      <td>-0.035322</td>\n",
       "      <td>0.081629</td>\n",
       "      <td>0.257307</td>\n",
       "      <td>0.106811</td>\n",
       "      <td>-0.338481</td>\n",
       "      <td>0.472637</td>\n",
       "      <td>-0.557080</td>\n",
       "      <td>0.106811</td>\n",
       "      <td>1.000000</td>\n",
       "      <td>-0.203367</td>\n",
       "    </tr>\n",
       "    <tr>\n",
       "      <th>pclass</th>\n",
       "      <td>-0.338481</td>\n",
       "      <td>1.000000</td>\n",
       "      <td>0.131900</td>\n",
       "      <td>-0.339898</td>\n",
       "      <td>0.083081</td>\n",
       "      <td>0.018443</td>\n",
       "      <td>-0.549500</td>\n",
       "      <td>0.045702</td>\n",
       "      <td>1.000000</td>\n",
       "      <td>-0.016018</td>\n",
       "      <td>0.094035</td>\n",
       "      <td>0.045702</td>\n",
       "      <td>-0.338481</td>\n",
       "      <td>0.135207</td>\n",
       "    </tr>\n",
       "    <tr>\n",
       "      <th>sex</th>\n",
       "      <td>-0.543351</td>\n",
       "      <td>0.131900</td>\n",
       "      <td>1.000000</td>\n",
       "      <td>0.081163</td>\n",
       "      <td>-0.114631</td>\n",
       "      <td>-0.245489</td>\n",
       "      <td>-0.182333</td>\n",
       "      <td>-0.116569</td>\n",
       "      <td>0.131900</td>\n",
       "      <td>-0.722076</td>\n",
       "      <td>0.908578</td>\n",
       "      <td>-0.116569</td>\n",
       "      <td>-0.543351</td>\n",
       "      <td>0.303646</td>\n",
       "    </tr>\n",
       "    <tr>\n",
       "      <th>age</th>\n",
       "      <td>-0.064910</td>\n",
       "      <td>-0.339898</td>\n",
       "      <td>0.081163</td>\n",
       "      <td>1.000000</td>\n",
       "      <td>-0.233296</td>\n",
       "      <td>-0.172482</td>\n",
       "      <td>0.096688</td>\n",
       "      <td>-0.009165</td>\n",
       "      <td>-0.339898</td>\n",
       "      <td>-0.432737</td>\n",
       "      <td>0.247704</td>\n",
       "      <td>-0.009165</td>\n",
       "      <td>-0.064910</td>\n",
       "      <td>0.171647</td>\n",
       "    </tr>\n",
       "    <tr>\n",
       "      <th>sibsp</th>\n",
       "      <td>-0.035322</td>\n",
       "      <td>0.083081</td>\n",
       "      <td>-0.114631</td>\n",
       "      <td>-0.233296</td>\n",
       "      <td>1.000000</td>\n",
       "      <td>0.414838</td>\n",
       "      <td>0.159651</td>\n",
       "      <td>-0.059961</td>\n",
       "      <td>0.083081</td>\n",
       "      <td>0.342977</td>\n",
       "      <td>-0.253586</td>\n",
       "      <td>-0.059961</td>\n",
       "      <td>-0.035322</td>\n",
       "      <td>-0.584471</td>\n",
       "    </tr>\n",
       "    <tr>\n",
       "      <th>parch</th>\n",
       "      <td>0.081629</td>\n",
       "      <td>0.018443</td>\n",
       "      <td>-0.245489</td>\n",
       "      <td>-0.172482</td>\n",
       "      <td>0.414838</td>\n",
       "      <td>1.000000</td>\n",
       "      <td>0.216225</td>\n",
       "      <td>-0.078665</td>\n",
       "      <td>0.018443</td>\n",
       "      <td>0.413947</td>\n",
       "      <td>-0.349943</td>\n",
       "      <td>-0.078665</td>\n",
       "      <td>0.081629</td>\n",
       "      <td>-0.583398</td>\n",
       "    </tr>\n",
       "    <tr>\n",
       "      <th>fare</th>\n",
       "      <td>0.257307</td>\n",
       "      <td>-0.549500</td>\n",
       "      <td>-0.182333</td>\n",
       "      <td>0.096688</td>\n",
       "      <td>0.159651</td>\n",
       "      <td>0.216225</td>\n",
       "      <td>1.000000</td>\n",
       "      <td>0.062142</td>\n",
       "      <td>-0.549500</td>\n",
       "      <td>0.136513</td>\n",
       "      <td>-0.182024</td>\n",
       "      <td>0.062142</td>\n",
       "      <td>0.257307</td>\n",
       "      <td>-0.271832</td>\n",
       "    </tr>\n",
       "    <tr>\n",
       "      <th>embarked</th>\n",
       "      <td>0.106811</td>\n",
       "      <td>0.045702</td>\n",
       "      <td>-0.116569</td>\n",
       "      <td>-0.009165</td>\n",
       "      <td>-0.059961</td>\n",
       "      <td>-0.078665</td>\n",
       "      <td>0.062142</td>\n",
       "      <td>1.000000</td>\n",
       "      <td>0.045702</td>\n",
       "      <td>0.075085</td>\n",
       "      <td>-0.108547</td>\n",
       "      <td>1.000000</td>\n",
       "      <td>0.106811</td>\n",
       "      <td>0.017807</td>\n",
       "    </tr>\n",
       "    <tr>\n",
       "      <th>class</th>\n",
       "      <td>-0.338481</td>\n",
       "      <td>1.000000</td>\n",
       "      <td>0.131900</td>\n",
       "      <td>-0.339898</td>\n",
       "      <td>0.083081</td>\n",
       "      <td>0.018443</td>\n",
       "      <td>-0.549500</td>\n",
       "      <td>0.045702</td>\n",
       "      <td>1.000000</td>\n",
       "      <td>-0.016018</td>\n",
       "      <td>0.094035</td>\n",
       "      <td>0.045702</td>\n",
       "      <td>-0.338481</td>\n",
       "      <td>0.135207</td>\n",
       "    </tr>\n",
       "    <tr>\n",
       "      <th>who</th>\n",
       "      <td>0.472637</td>\n",
       "      <td>-0.016018</td>\n",
       "      <td>-0.722076</td>\n",
       "      <td>-0.432737</td>\n",
       "      <td>0.342977</td>\n",
       "      <td>0.413947</td>\n",
       "      <td>0.136513</td>\n",
       "      <td>0.075085</td>\n",
       "      <td>-0.016018</td>\n",
       "      <td>1.000000</td>\n",
       "      <td>-0.914615</td>\n",
       "      <td>0.075085</td>\n",
       "      <td>0.472637</td>\n",
       "      <td>-0.452753</td>\n",
       "    </tr>\n",
       "    <tr>\n",
       "      <th>adult_male</th>\n",
       "      <td>-0.557080</td>\n",
       "      <td>0.094035</td>\n",
       "      <td>0.908578</td>\n",
       "      <td>0.247704</td>\n",
       "      <td>-0.253586</td>\n",
       "      <td>-0.349943</td>\n",
       "      <td>-0.182024</td>\n",
       "      <td>-0.108547</td>\n",
       "      <td>0.094035</td>\n",
       "      <td>-0.914615</td>\n",
       "      <td>1.000000</td>\n",
       "      <td>-0.108547</td>\n",
       "      <td>-0.557080</td>\n",
       "      <td>0.404744</td>\n",
       "    </tr>\n",
       "    <tr>\n",
       "      <th>embark_town</th>\n",
       "      <td>0.106811</td>\n",
       "      <td>0.045702</td>\n",
       "      <td>-0.116569</td>\n",
       "      <td>-0.009165</td>\n",
       "      <td>-0.059961</td>\n",
       "      <td>-0.078665</td>\n",
       "      <td>0.062142</td>\n",
       "      <td>1.000000</td>\n",
       "      <td>0.045702</td>\n",
       "      <td>0.075085</td>\n",
       "      <td>-0.108547</td>\n",
       "      <td>1.000000</td>\n",
       "      <td>0.106811</td>\n",
       "      <td>0.017807</td>\n",
       "    </tr>\n",
       "    <tr>\n",
       "      <th>alive</th>\n",
       "      <td>1.000000</td>\n",
       "      <td>-0.338481</td>\n",
       "      <td>-0.543351</td>\n",
       "      <td>-0.064910</td>\n",
       "      <td>-0.035322</td>\n",
       "      <td>0.081629</td>\n",
       "      <td>0.257307</td>\n",
       "      <td>0.106811</td>\n",
       "      <td>-0.338481</td>\n",
       "      <td>0.472637</td>\n",
       "      <td>-0.557080</td>\n",
       "      <td>0.106811</td>\n",
       "      <td>1.000000</td>\n",
       "      <td>-0.203367</td>\n",
       "    </tr>\n",
       "    <tr>\n",
       "      <th>alone</th>\n",
       "      <td>-0.203367</td>\n",
       "      <td>0.135207</td>\n",
       "      <td>0.303646</td>\n",
       "      <td>0.171647</td>\n",
       "      <td>-0.584471</td>\n",
       "      <td>-0.583398</td>\n",
       "      <td>-0.271832</td>\n",
       "      <td>0.017807</td>\n",
       "      <td>0.135207</td>\n",
       "      <td>-0.452753</td>\n",
       "      <td>0.404744</td>\n",
       "      <td>0.017807</td>\n",
       "      <td>-0.203367</td>\n",
       "      <td>1.000000</td>\n",
       "    </tr>\n",
       "  </tbody>\n",
       "</table>\n",
       "</div>"
      ],
      "text/plain": [
       "             survived    pclass       sex       age     sibsp     parch  \\\n",
       "survived     1.000000 -0.338481 -0.543351 -0.064910 -0.035322  0.081629   \n",
       "pclass      -0.338481  1.000000  0.131900 -0.339898  0.083081  0.018443   \n",
       "sex         -0.543351  0.131900  1.000000  0.081163 -0.114631 -0.245489   \n",
       "age         -0.064910 -0.339898  0.081163  1.000000 -0.233296 -0.172482   \n",
       "sibsp       -0.035322  0.083081 -0.114631 -0.233296  1.000000  0.414838   \n",
       "parch        0.081629  0.018443 -0.245489 -0.172482  0.414838  1.000000   \n",
       "fare         0.257307 -0.549500 -0.182333  0.096688  0.159651  0.216225   \n",
       "embarked     0.106811  0.045702 -0.116569 -0.009165 -0.059961 -0.078665   \n",
       "class       -0.338481  1.000000  0.131900 -0.339898  0.083081  0.018443   \n",
       "who          0.472637 -0.016018 -0.722076 -0.432737  0.342977  0.413947   \n",
       "adult_male  -0.557080  0.094035  0.908578  0.247704 -0.253586 -0.349943   \n",
       "embark_town  0.106811  0.045702 -0.116569 -0.009165 -0.059961 -0.078665   \n",
       "alive        1.000000 -0.338481 -0.543351 -0.064910 -0.035322  0.081629   \n",
       "alone       -0.203367  0.135207  0.303646  0.171647 -0.584471 -0.583398   \n",
       "\n",
       "                 fare  embarked     class       who  adult_male  embark_town  \\\n",
       "survived     0.257307  0.106811 -0.338481  0.472637   -0.557080     0.106811   \n",
       "pclass      -0.549500  0.045702  1.000000 -0.016018    0.094035     0.045702   \n",
       "sex         -0.182333 -0.116569  0.131900 -0.722076    0.908578    -0.116569   \n",
       "age          0.096688 -0.009165 -0.339898 -0.432737    0.247704    -0.009165   \n",
       "sibsp        0.159651 -0.059961  0.083081  0.342977   -0.253586    -0.059961   \n",
       "parch        0.216225 -0.078665  0.018443  0.413947   -0.349943    -0.078665   \n",
       "fare         1.000000  0.062142 -0.549500  0.136513   -0.182024     0.062142   \n",
       "embarked     0.062142  1.000000  0.045702  0.075085   -0.108547     1.000000   \n",
       "class       -0.549500  0.045702  1.000000 -0.016018    0.094035     0.045702   \n",
       "who          0.136513  0.075085 -0.016018  1.000000   -0.914615     0.075085   \n",
       "adult_male  -0.182024 -0.108547  0.094035 -0.914615    1.000000    -0.108547   \n",
       "embark_town  0.062142  1.000000  0.045702  0.075085   -0.108547     1.000000   \n",
       "alive        0.257307  0.106811 -0.338481  0.472637   -0.557080     0.106811   \n",
       "alone       -0.271832  0.017807  0.135207 -0.452753    0.404744     0.017807   \n",
       "\n",
       "                alive     alone  \n",
       "survived     1.000000 -0.203367  \n",
       "pclass      -0.338481  0.135207  \n",
       "sex         -0.543351  0.303646  \n",
       "age         -0.064910  0.171647  \n",
       "sibsp       -0.035322 -0.584471  \n",
       "parch        0.081629 -0.583398  \n",
       "fare         0.257307 -0.271832  \n",
       "embarked     0.106811  0.017807  \n",
       "class       -0.338481  0.135207  \n",
       "who          0.472637 -0.452753  \n",
       "adult_male  -0.557080  0.404744  \n",
       "embark_town  0.106811  0.017807  \n",
       "alive        1.000000 -0.203367  \n",
       "alone       -0.203367  1.000000  "
      ]
     },
     "execution_count": 93,
     "metadata": {},
     "output_type": "execute_result"
    }
   ],
   "source": [
    "df.corr()"
   ]
  },
  {
   "cell_type": "code",
   "execution_count": 94,
   "id": "df772e34",
   "metadata": {},
   "outputs": [
    {
     "data": {
      "text/plain": [
       "<AxesSubplot:>"
      ]
     },
     "execution_count": 94,
     "metadata": {},
     "output_type": "execute_result"
    },
    {
     "data": {
      "image/png": "[encoded data removed]",
      "text/plain": [
       "<Figure size 864x576 with 2 Axes>"
      ]
     },
     "metadata": {},
     "output_type": "display_data"
    }
   ],
   "source": [
    "plt.figure(figsize=(12,8))\n",
    "sns.heatmap(df.corr(),annot=True,fmt='.2f')"
   ]
  },
  {
   "cell_type": "markdown",
   "id": "caa2d47f",
   "metadata": {},
   "source": [
    "### We will drop those columns which are morethan 80% correlated with any of the other columns.."
   ]
  },
  {
   "cell_type": "code",
   "execution_count": 95,
   "id": "469d5573",
   "metadata": {},
   "outputs": [
    {
     "data": {
      "text/plain": [
       "Index(['survived', 'pclass', 'sex', 'age', 'sibsp', 'parch', 'fare',\n",
       "       'embarked', 'class', 'who', 'adult_male', 'embark_town', 'alive',\n",
       "       'alone'],\n",
       "      dtype='object')"
      ]
     },
     "execution_count": 95,
     "metadata": {},
     "output_type": "execute_result"
    }
   ],
   "source": [
    "df.columns"
   ]
  },
  {
   "cell_type": "code",
   "execution_count": 96,
   "id": "6bc82137",
   "metadata": {},
   "outputs": [],
   "source": [
    "df.drop(columns=['alive','adult_male','embark_town','class'],axis=1,inplace=True)"
   ]
  },
  {
   "cell_type": "code",
   "execution_count": 97,
   "id": "d794351d",
   "metadata": {},
   "outputs": [
    {
     "data": {
      "text/html": [
       "<div>\n",
       "<style scoped>\n",
       "    .dataframe tbody tr th:only-of-type {\n",
       "        vertical-align: middle;\n",
       "    }\n",
       "\n",
       "    .dataframe tbody tr th {\n",
       "        vertical-align: top;\n",
       "    }\n",
       "\n",
       "    .dataframe thead th {\n",
       "        text-align: right;\n",
       "    }\n",
       "</style>\n",
       "<table border=\"1\" class=\"dataframe\">\n",
       "  <thead>\n",
       "    <tr style=\"text-align: right;\">\n",
       "      <th></th>\n",
       "      <th>survived</th>\n",
       "      <th>pclass</th>\n",
       "      <th>sex</th>\n",
       "      <th>age</th>\n",
       "      <th>sibsp</th>\n",
       "      <th>parch</th>\n",
       "      <th>fare</th>\n",
       "      <th>embarked</th>\n",
       "      <th>who</th>\n",
       "      <th>alone</th>\n",
       "    </tr>\n",
       "  </thead>\n",
       "  <tbody>\n",
       "    <tr>\n",
       "      <th>0</th>\n",
       "      <td>0</td>\n",
       "      <td>3</td>\n",
       "      <td>1</td>\n",
       "      <td>22.0</td>\n",
       "      <td>1</td>\n",
       "      <td>0</td>\n",
       "      <td>7.2500</td>\n",
       "      <td>1</td>\n",
       "      <td>1</td>\n",
       "      <td>0</td>\n",
       "    </tr>\n",
       "    <tr>\n",
       "      <th>1</th>\n",
       "      <td>1</td>\n",
       "      <td>1</td>\n",
       "      <td>0</td>\n",
       "      <td>38.0</td>\n",
       "      <td>1</td>\n",
       "      <td>0</td>\n",
       "      <td>71.2833</td>\n",
       "      <td>2</td>\n",
       "      <td>2</td>\n",
       "      <td>0</td>\n",
       "    </tr>\n",
       "    <tr>\n",
       "      <th>2</th>\n",
       "      <td>1</td>\n",
       "      <td>3</td>\n",
       "      <td>0</td>\n",
       "      <td>26.0</td>\n",
       "      <td>0</td>\n",
       "      <td>0</td>\n",
       "      <td>7.9250</td>\n",
       "      <td>1</td>\n",
       "      <td>2</td>\n",
       "      <td>1</td>\n",
       "    </tr>\n",
       "    <tr>\n",
       "      <th>3</th>\n",
       "      <td>1</td>\n",
       "      <td>1</td>\n",
       "      <td>0</td>\n",
       "      <td>35.0</td>\n",
       "      <td>1</td>\n",
       "      <td>0</td>\n",
       "      <td>53.1000</td>\n",
       "      <td>1</td>\n",
       "      <td>2</td>\n",
       "      <td>0</td>\n",
       "    </tr>\n",
       "    <tr>\n",
       "      <th>4</th>\n",
       "      <td>0</td>\n",
       "      <td>3</td>\n",
       "      <td>1</td>\n",
       "      <td>35.0</td>\n",
       "      <td>0</td>\n",
       "      <td>0</td>\n",
       "      <td>8.0500</td>\n",
       "      <td>1</td>\n",
       "      <td>1</td>\n",
       "      <td>1</td>\n",
       "    </tr>\n",
       "  </tbody>\n",
       "</table>\n",
       "</div>"
      ],
      "text/plain": [
       "   survived  pclass  sex   age  sibsp  parch     fare  embarked  who  alone\n",
       "0         0       3    1  22.0      1      0   7.2500         1    1      0\n",
       "1         1       1    0  38.0      1      0  71.2833         2    2      0\n",
       "2         1       3    0  26.0      0      0   7.9250         1    2      1\n",
       "3         1       1    0  35.0      1      0  53.1000         1    2      0\n",
       "4         0       3    1  35.0      0      0   8.0500         1    1      1"
      ]
     },
     "execution_count": 97,
     "metadata": {},
     "output_type": "execute_result"
    }
   ],
   "source": [
    "df.head()"
   ]
  },
  {
   "cell_type": "markdown",
   "id": "2e772af6",
   "metadata": {},
   "source": [
    "### Let's the split our data and proceed for model building..But before that we need to scale our data.."
   ]
  },
  {
   "cell_type": "code",
   "execution_count": 98,
   "id": "2b3bac7f",
   "metadata": {},
   "outputs": [],
   "source": [
    "X=df.drop(columns=['survived'],axis=1)\n",
    "y=df['survived']"
   ]
  },
  {
   "cell_type": "code",
   "execution_count": 99,
   "id": "3680b2f8",
   "metadata": {},
   "outputs": [],
   "source": [
    "from sklearn.preprocessing import MinMaxScaler"
   ]
  },
  {
   "cell_type": "code",
   "execution_count": 100,
   "id": "d18e791e",
   "metadata": {},
   "outputs": [],
   "source": [
    "scalar=MinMaxScaler()"
   ]
  },
  {
   "cell_type": "code",
   "execution_count": 101,
   "id": "23d46a09",
   "metadata": {},
   "outputs": [],
   "source": [
    "scaled_X=scalar.fit_transform(X)"
   ]
  },
  {
   "cell_type": "code",
   "execution_count": 102,
   "id": "d0b35037",
   "metadata": {},
   "outputs": [],
   "source": [
    "from sklearn.model_selection import train_test_split"
   ]
  },
  {
   "cell_type": "code",
   "execution_count": 103,
   "id": "ba1bc111",
   "metadata": {},
   "outputs": [],
   "source": [
    "X_train, X_test, y_train, y_test = train_test_split(scaled_X, y, test_size=0.2, random_state=100)"
   ]
  },
  {
   "cell_type": "markdown",
   "id": "15fe7f6d",
   "metadata": {},
   "source": [
    "### Let's import different ML modules:"
   ]
  },
  {
   "cell_type": "code",
   "execution_count": 104,
   "id": "ad0d931f",
   "metadata": {},
   "outputs": [],
   "source": [
    "from sklearn.linear_model import LogisticRegression\n",
    "from sklearn.svm import SVC\n",
    "from sklearn.naive_bayes import MultinomialNB\n",
    "from sklearn.tree import DecisionTreeClassifier\n",
    "from sklearn.ensemble import RandomForestClassifier\n",
    "from sklearn.neighbors import KNeighborsClassifier"
   ]
  },
  {
   "cell_type": "markdown",
   "id": "da56f1a2",
   "metadata": {},
   "source": [
    "### Creating Objects of the Modules.."
   ]
  },
  {
   "cell_type": "code",
   "execution_count": 105,
   "id": "8ef0a519",
   "metadata": {},
   "outputs": [],
   "source": [
    "lr=LogisticRegression()\n",
    "svm=SVC()\n",
    "mb=MultinomialNB()\n",
    "dtree=DecisionTreeClassifier()\n",
    "rf=RandomForestClassifier()\n",
    "knn=KNeighborsClassifier()"
   ]
  },
  {
   "cell_type": "markdown",
   "id": "2b6b7d10",
   "metadata": {},
   "source": [
    "### Let's check which model with which parameters is giving the best score.. We will do Hyperparameter Tunning.."
   ]
  },
  {
   "cell_type": "code",
   "execution_count": 106,
   "id": "169273ad",
   "metadata": {},
   "outputs": [],
   "source": [
    "model_param={\n",
    "    'svm':{\n",
    "        'model':SVC(),\n",
    "        'params':{\n",
    "            'C':[1,10,50,70,100],\n",
    "            'gamma':[.1,.01,.001,.0001,1],\n",
    "            'kernel':['rbf','linear','poly'] } },\n",
    "    'lr':{\n",
    "        'model':LogisticRegression(),\n",
    "          'params': {\n",
    "              'solver':['lbfgs','liblinear'],\n",
    "              'C':[1,5,10]}},\n",
    "    'rf':{\n",
    "        'model':RandomForestClassifier(),\n",
    "        'params':{\n",
    "            'n_estimators':[10,50,70,100],\n",
    "            'criterion':['gini','entropy']}},\n",
    "    'mb':{\n",
    "        'model':MultinomialNB(),\n",
    "        'params':{\n",
    "            'alpha':[.1,1,10,100]}},\n",
    "    'dtree':{\n",
    "        'model':DecisionTreeClassifier(),\n",
    "        'params':{\n",
    "            'criterion':['gini','entropy']}},\n",
    "    'knn':{\n",
    "        'model':KNeighborsClassifier(),\n",
    "        'params':{\n",
    "            'n_neighbors':[3,5,8,10,12]}}    \n",
    "\n",
    "}\n"
   ]
  },
  {
   "cell_type": "code",
   "execution_count": 107,
   "id": "cb6c55b6",
   "metadata": {},
   "outputs": [
    {
     "data": {
      "text/plain": [
       "{'svm': {'model': SVC(),\n",
       "  'params': {'C': [1, 10, 50, 70, 100],\n",
       "   'gamma': [0.1, 0.01, 0.001, 0.0001, 1],\n",
       "   'kernel': ['rbf', 'linear', 'poly']}},\n",
       " 'lr': {'model': LogisticRegression(),\n",
       "  'params': {'solver': ['lbfgs', 'liblinear'], 'C': [1, 5, 10]}},\n",
       " 'rf': {'model': RandomForestClassifier(),\n",
       "  'params': {'n_estimators': [10, 50, 70, 100],\n",
       "   'criterion': ['gini', 'entropy']}},\n",
       " 'mb': {'model': MultinomialNB(), 'params': {'alpha': [0.1, 1, 10, 100]}},\n",
       " 'dtree': {'model': DecisionTreeClassifier(),\n",
       "  'params': {'criterion': ['gini', 'entropy']}},\n",
       " 'knn': {'model': KNeighborsClassifier(),\n",
       "  'params': {'n_neighbors': [3, 5, 8, 10, 12]}}}"
      ]
     },
     "execution_count": 107,
     "metadata": {},
     "output_type": "execute_result"
    }
   ],
   "source": [
    "model_param"
   ]
  },
  {
   "cell_type": "code",
   "execution_count": 108,
   "id": "325b3eaf",
   "metadata": {},
   "outputs": [
    {
     "data": {
      "text/plain": [
       "dict_keys(['svm', 'lr', 'rf', 'mb', 'dtree', 'knn'])"
      ]
     },
     "execution_count": 108,
     "metadata": {},
     "output_type": "execute_result"
    }
   ],
   "source": [
    "model_param.keys()"
   ]
  },
  {
   "cell_type": "code",
   "execution_count": 109,
   "id": "9a6a7988",
   "metadata": {},
   "outputs": [
    {
     "data": {
      "text/plain": [
       "dict_values([{'model': SVC(), 'params': {'C': [1, 10, 50, 70, 100], 'gamma': [0.1, 0.01, 0.001, 0.0001, 1], 'kernel': ['rbf', 'linear', 'poly']}}, {'model': LogisticRegression(), 'params': {'solver': ['lbfgs', 'liblinear'], 'C': [1, 5, 10]}}, {'model': RandomForestClassifier(), 'params': {'n_estimators': [10, 50, 70, 100], 'criterion': ['gini', 'entropy']}}, {'model': MultinomialNB(), 'params': {'alpha': [0.1, 1, 10, 100]}}, {'model': DecisionTreeClassifier(), 'params': {'criterion': ['gini', 'entropy']}}, {'model': KNeighborsClassifier(), 'params': {'n_neighbors': [3, 5, 8, 10, 12]}}])"
      ]
     },
     "execution_count": 109,
     "metadata": {},
     "output_type": "execute_result"
    }
   ],
   "source": [
    "model_param.values()"
   ]
  },
  {
   "cell_type": "code",
   "execution_count": 110,
   "id": "4f895452",
   "metadata": {},
   "outputs": [],
   "source": [
    "from sklearn.model_selection import GridSearchCV"
   ]
  },
  {
   "cell_type": "code",
   "execution_count": 111,
   "id": "155d8039",
   "metadata": {},
   "outputs": [],
   "source": [
    "score=[]\n",
    "for model_name,model_parameters in model_param.items():\n",
    "    final_clf=GridSearchCV(model_parameters['model'],model_parameters['params'],cv=5)\n",
    "    final_clf.fit(X_train,y_train)\n",
    "    score.append({\n",
    "        'model':model_name,\n",
    "        'best_score':final_clf.best_score_,\n",
    "        'best_params':final_clf.best_params_\n",
    "    })"
   ]
  },
  {
   "cell_type": "code",
   "execution_count": 112,
   "id": "a5e1f878",
   "metadata": {},
   "outputs": [
    {
     "data": {
      "text/plain": [
       "[{'model': 'svm',\n",
       "  'best_score': 0.8356938835812076,\n",
       "  'best_params': {'C': 1, 'gamma': 1, 'kernel': 'poly'}},\n",
       " {'model': 'lr',\n",
       "  'best_score': 0.8160346695557964,\n",
       "  'best_params': {'C': 1, 'solver': 'liblinear'}},\n",
       " {'model': 'rf',\n",
       "  'best_score': 0.8075445681079485,\n",
       "  'best_params': {'criterion': 'entropy', 'n_estimators': 100}},\n",
       " {'model': 'mb',\n",
       "  'best_score': 0.7921205555008373,\n",
       "  'best_params': {'alpha': 0.1}},\n",
       " {'model': 'dtree',\n",
       "  'best_score': 0.7696542893725992,\n",
       "  'best_params': {'criterion': 'gini'}},\n",
       " {'model': 'knn',\n",
       "  'best_score': 0.8258741258741258,\n",
       "  'best_params': {'n_neighbors': 12}}]"
      ]
     },
     "execution_count": 112,
     "metadata": {},
     "output_type": "execute_result"
    }
   ],
   "source": [
    "score"
   ]
  },
  {
   "cell_type": "code",
   "execution_count": 113,
   "id": "e035e636",
   "metadata": {},
   "outputs": [
    {
     "data": {
      "text/html": [
       "<div>\n",
       "<style scoped>\n",
       "    .dataframe tbody tr th:only-of-type {\n",
       "        vertical-align: middle;\n",
       "    }\n",
       "\n",
       "    .dataframe tbody tr th {\n",
       "        vertical-align: top;\n",
       "    }\n",
       "\n",
       "    .dataframe thead th {\n",
       "        text-align: right;\n",
       "    }\n",
       "</style>\n",
       "<table border=\"1\" class=\"dataframe\">\n",
       "  <thead>\n",
       "    <tr style=\"text-align: right;\">\n",
       "      <th></th>\n",
       "      <th>model</th>\n",
       "      <th>best_score</th>\n",
       "      <th>best_params</th>\n",
       "    </tr>\n",
       "  </thead>\n",
       "  <tbody>\n",
       "    <tr>\n",
       "      <th>0</th>\n",
       "      <td>svm</td>\n",
       "      <td>0.835694</td>\n",
       "      <td>{'C': 1, 'gamma': 1, 'kernel': 'poly'}</td>\n",
       "    </tr>\n",
       "    <tr>\n",
       "      <th>1</th>\n",
       "      <td>lr</td>\n",
       "      <td>0.816035</td>\n",
       "      <td>{'C': 1, 'solver': 'liblinear'}</td>\n",
       "    </tr>\n",
       "    <tr>\n",
       "      <th>2</th>\n",
       "      <td>rf</td>\n",
       "      <td>0.807545</td>\n",
       "      <td>{'criterion': 'entropy', 'n_estimators': 100}</td>\n",
       "    </tr>\n",
       "    <tr>\n",
       "      <th>3</th>\n",
       "      <td>mb</td>\n",
       "      <td>0.792121</td>\n",
       "      <td>{'alpha': 0.1}</td>\n",
       "    </tr>\n",
       "    <tr>\n",
       "      <th>4</th>\n",
       "      <td>dtree</td>\n",
       "      <td>0.769654</td>\n",
       "      <td>{'criterion': 'gini'}</td>\n",
       "    </tr>\n",
       "    <tr>\n",
       "      <th>5</th>\n",
       "      <td>knn</td>\n",
       "      <td>0.825874</td>\n",
       "      <td>{'n_neighbors': 12}</td>\n",
       "    </tr>\n",
       "  </tbody>\n",
       "</table>\n",
       "</div>"
      ],
      "text/plain": [
       "   model  best_score                                    best_params\n",
       "0    svm    0.835694         {'C': 1, 'gamma': 1, 'kernel': 'poly'}\n",
       "1     lr    0.816035                {'C': 1, 'solver': 'liblinear'}\n",
       "2     rf    0.807545  {'criterion': 'entropy', 'n_estimators': 100}\n",
       "3     mb    0.792121                                 {'alpha': 0.1}\n",
       "4  dtree    0.769654                          {'criterion': 'gini'}\n",
       "5    knn    0.825874                            {'n_neighbors': 12}"
      ]
     },
     "execution_count": 113,
     "metadata": {},
     "output_type": "execute_result"
    }
   ],
   "source": [
    "pd.DataFrame(score,columns=['model','best_score','best_params'])"
   ]
  },
  {
   "cell_type": "markdown",
   "id": "3ec99ae8",
   "metadata": {},
   "source": [
    "### So we can conclude that SVM is performing best with these parameters : {'C': 1, 'gamma': 1, 'kernel': 'poly'}"
   ]
  },
  {
   "cell_type": "code",
   "execution_count": 114,
   "id": "8bbbeed6",
   "metadata": {},
   "outputs": [],
   "source": [
    "model=SVC(C=1,gamma=1,kernel='poly')"
   ]
  },
  {
   "cell_type": "code",
   "execution_count": 115,
   "id": "c1cfd6f7",
   "metadata": {},
   "outputs": [
    {
     "data": {
      "text/plain": [
       "SVC(C=1, gamma=1, kernel='poly')"
      ]
     },
     "execution_count": 115,
     "metadata": {},
     "output_type": "execute_result"
    }
   ],
   "source": [
    "model.fit(X_train,y_train)"
   ]
  },
  {
   "cell_type": "code",
   "execution_count": 116,
   "id": "7b210b6b",
   "metadata": {},
   "outputs": [],
   "source": [
    "pred=model.predict(X_test)"
   ]
  },
  {
   "cell_type": "markdown",
   "id": "93ad5d2d",
   "metadata": {},
   "source": [
    "### Let's check the performance.."
   ]
  },
  {
   "cell_type": "code",
   "execution_count": 117,
   "id": "9bf8ed48",
   "metadata": {},
   "outputs": [],
   "source": [
    "from sklearn.metrics import confusion_matrix,classification_report"
   ]
  },
  {
   "cell_type": "code",
   "execution_count": 118,
   "id": "c8bc8c47",
   "metadata": {},
   "outputs": [
    {
     "name": "stdout",
     "output_type": "stream",
     "text": [
      "[[100   4]\n",
      " [ 28  47]]\n",
      "              precision    recall  f1-score   support\n",
      "\n",
      "           0       0.78      0.96      0.86       104\n",
      "           1       0.92      0.63      0.75        75\n",
      "\n",
      "    accuracy                           0.82       179\n",
      "   macro avg       0.85      0.79      0.80       179\n",
      "weighted avg       0.84      0.82      0.81       179\n",
      "\n"
     ]
    }
   ],
   "source": [
    "print(confusion_matrix(y_test,pred))\n",
    "print(classification_report(y_test,pred))"
   ]
  },
  {
   "cell_type": "code",
   "execution_count": 119,
   "id": "da1847a1",
   "metadata": {},
   "outputs": [
    {
     "data": {
      "text/plain": [
       "0.8212290502793296"
      ]
     },
     "execution_count": 119,
     "metadata": {},
     "output_type": "execute_result"
    }
   ],
   "source": [
    "model.score(X_test,y_test)"
   ]
  },
  {
   "cell_type": "markdown",
   "id": "4aa7c414",
   "metadata": {},
   "source": [
    "### Let's try to see if by chaning the random_state we can imrove the score or not.."
   ]
  },
  {
   "cell_type": "code",
   "execution_count": 120,
   "id": "ed0c4368",
   "metadata": {},
   "outputs": [],
   "source": [
    "X_train, X_test, y_train, y_test = train_test_split(scaled_X, y, test_size=0.33, random_state=2)"
   ]
  },
  {
   "cell_type": "code",
   "execution_count": 121,
   "id": "b68da115",
   "metadata": {},
   "outputs": [
    {
     "data": {
      "text/plain": [
       "SVC(C=1, gamma=1, kernel='poly')"
      ]
     },
     "execution_count": 121,
     "metadata": {},
     "output_type": "execute_result"
    }
   ],
   "source": [
    "model.fit(X_train,y_train)"
   ]
  },
  {
   "cell_type": "code",
   "execution_count": 122,
   "id": "bdcec663",
   "metadata": {},
   "outputs": [
    {
     "data": {
      "text/plain": [
       "0.8"
      ]
     },
     "execution_count": 122,
     "metadata": {},
     "output_type": "execute_result"
    }
   ],
   "source": [
    "model.score(X_test,y_test)"
   ]
  },
  {
   "cell_type": "code",
   "execution_count": 123,
   "id": "e118fa5f",
   "metadata": {},
   "outputs": [],
   "source": [
    "model_scores=[]\n",
    "for i in range(1000):\n",
    "    X_train, X_test, y_train, y_test = train_test_split(scaled_X, y, test_size=0.33, random_state=i)\n",
    "    model.fit(X_train,y_train)\n",
    "    model_scores.append(model.score(X_test,y_test))    "
   ]
  },
  {
   "cell_type": "code",
   "execution_count": 124,
   "id": "97d24537",
   "metadata": {},
   "outputs": [
    {
     "data": {
      "text/plain": [
       "[0.8305084745762712,\n",
       " 0.7796610169491526,\n",
       " 0.8,\n",
       " 0.8033898305084746,\n",
       " 0.8542372881355932,\n",
       " 0.8372881355932204,\n",
       " 0.8372881355932204,\n",
       " 0.7966101694915254,\n",
       " 0.8406779661016949,\n",
       " 0.7966101694915254,\n",
       " 0.8305084745762712,\n",
       " 0.8305084745762712,\n",
       " 0.7796610169491526,\n",
       " 0.8203389830508474,\n",
       " 0.8338983050847457,\n",
       " 0.8406779661016949,\n",
       " 0.8135593220338984,\n",
       " 0.7932203389830509,\n",
       " 0.8169491525423729,\n",
       " 0.8440677966101695,\n",
       " 0.8033898305084746,\n",
       " 0.8101694915254237,\n",
       " 0.7932203389830509,\n",
       " 0.823728813559322,\n",
       " 0.8440677966101695,\n",
       " 0.8033898305084746,\n",
       " 0.7864406779661017,\n",
       " 0.8169491525423729,\n",
       " 0.7898305084745763,\n",
       " 0.8271186440677966,\n",
       " 0.8101694915254237,\n",
       " 0.8169491525423729,\n",
       " 0.8203389830508474,\n",
       " 0.8542372881355932,\n",
       " 0.8508474576271187,\n",
       " 0.8508474576271187,\n",
       " 0.8542372881355932,\n",
       " 0.8135593220338984,\n",
       " 0.8203389830508474,\n",
       " 0.8440677966101695,\n",
       " 0.8372881355932204,\n",
       " 0.8338983050847457,\n",
       " 0.823728813559322,\n",
       " 0.7932203389830509,\n",
       " 0.8169491525423729,\n",
       " 0.847457627118644,\n",
       " 0.864406779661017,\n",
       " 0.8338983050847457,\n",
       " 0.8271186440677966,\n",
       " 0.8508474576271187,\n",
       " 0.8033898305084746,\n",
       " 0.8067796610169492,\n",
       " 0.8271186440677966,\n",
       " 0.8169491525423729,\n",
       " 0.8067796610169492,\n",
       " 0.8169491525423729,\n",
       " 0.847457627118644,\n",
       " 0.8372881355932204,\n",
       " 0.8271186440677966,\n",
       " 0.8033898305084746,\n",
       " 0.8033898305084746,\n",
       " 0.8135593220338984,\n",
       " 0.8406779661016949,\n",
       " 0.8135593220338984,\n",
       " 0.8271186440677966,\n",
       " 0.8203389830508474,\n",
       " 0.8508474576271187,\n",
       " 0.8305084745762712,\n",
       " 0.8169491525423729,\n",
       " 0.8271186440677966,\n",
       " 0.8338983050847457,\n",
       " 0.8406779661016949,\n",
       " 0.8542372881355932,\n",
       " 0.8372881355932204,\n",
       " 0.8338983050847457,\n",
       " 0.8,\n",
       " 0.8372881355932204,\n",
       " 0.8305084745762712,\n",
       " 0.8576271186440678,\n",
       " 0.8372881355932204,\n",
       " 0.8101694915254237,\n",
       " 0.823728813559322,\n",
       " 0.8,\n",
       " 0.8372881355932204,\n",
       " 0.7932203389830509,\n",
       " 0.8169491525423729,\n",
       " 0.8169491525423729,\n",
       " 0.8,\n",
       " 0.8203389830508474,\n",
       " 0.8440677966101695,\n",
       " 0.8271186440677966,\n",
       " 0.8203389830508474,\n",
       " 0.823728813559322,\n",
       " 0.8508474576271187,\n",
       " 0.823728813559322,\n",
       " 0.8372881355932204,\n",
       " 0.8271186440677966,\n",
       " 0.8101694915254237,\n",
       " 0.823728813559322,\n",
       " 0.8033898305084746,\n",
       " 0.8101694915254237,\n",
       " 0.823728813559322,\n",
       " 0.8372881355932204,\n",
       " 0.8338983050847457,\n",
       " 0.8440677966101695,\n",
       " 0.8372881355932204,\n",
       " 0.8169491525423729,\n",
       " 0.7830508474576271,\n",
       " 0.8101694915254237,\n",
       " 0.8033898305084746,\n",
       " 0.8169491525423729,\n",
       " 0.8169491525423729,\n",
       " 0.8406779661016949,\n",
       " 0.8067796610169492,\n",
       " 0.7830508474576271,\n",
       " 0.8372881355932204,\n",
       " 0.8271186440677966,\n",
       " 0.8169491525423729,\n",
       " 0.8067796610169492,\n",
       " 0.8406779661016949,\n",
       " 0.8135593220338984,\n",
       " 0.8135593220338984,\n",
       " 0.8271186440677966,\n",
       " 0.8508474576271187,\n",
       " 0.823728813559322,\n",
       " 0.8067796610169492,\n",
       " 0.8067796610169492,\n",
       " 0.8542372881355932,\n",
       " 0.8305084745762712,\n",
       " 0.8033898305084746,\n",
       " 0.823728813559322,\n",
       " 0.8135593220338984,\n",
       " 0.8406779661016949,\n",
       " 0.8338983050847457,\n",
       " 0.8135593220338984,\n",
       " 0.847457627118644,\n",
       " 0.8440677966101695,\n",
       " 0.8372881355932204,\n",
       " 0.8203389830508474,\n",
       " 0.8,\n",
       " 0.823728813559322,\n",
       " 0.8406779661016949,\n",
       " 0.8372881355932204,\n",
       " 0.7966101694915254,\n",
       " 0.8135593220338984,\n",
       " 0.8542372881355932,\n",
       " 0.8203389830508474,\n",
       " 0.8440677966101695,\n",
       " 0.8305084745762712,\n",
       " 0.8305084745762712,\n",
       " 0.8576271186440678,\n",
       " 0.8101694915254237,\n",
       " 0.8610169491525423,\n",
       " 0.8305084745762712,\n",
       " 0.8169491525423729,\n",
       " 0.823728813559322,\n",
       " 0.8,\n",
       " 0.8067796610169492,\n",
       " 0.8067796610169492,\n",
       " 0.8338983050847457,\n",
       " 0.8372881355932204,\n",
       " 0.8067796610169492,\n",
       " 0.8338983050847457,\n",
       " 0.8271186440677966,\n",
       " 0.8203389830508474,\n",
       " 0.8372881355932204,\n",
       " 0.8169491525423729,\n",
       " 0.8271186440677966,\n",
       " 0.8305084745762712,\n",
       " 0.823728813559322,\n",
       " 0.8508474576271187,\n",
       " 0.8440677966101695,\n",
       " 0.8169491525423729,\n",
       " 0.8440677966101695,\n",
       " 0.8135593220338984,\n",
       " 0.7830508474576271,\n",
       " 0.8,\n",
       " 0.8135593220338984,\n",
       " 0.8406779661016949,\n",
       " 0.7966101694915254,\n",
       " 0.8338983050847457,\n",
       " 0.8169491525423729,\n",
       " 0.8406779661016949,\n",
       " 0.8033898305084746,\n",
       " 0.8338983050847457,\n",
       " 0.8135593220338984,\n",
       " 0.7966101694915254,\n",
       " 0.8101694915254237,\n",
       " 0.8203389830508474,\n",
       " 0.8338983050847457,\n",
       " 0.8338983050847457,\n",
       " 0.823728813559322,\n",
       " 0.8067796610169492,\n",
       " 0.847457627118644,\n",
       " 0.8406779661016949,\n",
       " 0.8101694915254237,\n",
       " 0.8305084745762712,\n",
       " 0.8,\n",
       " 0.8033898305084746,\n",
       " 0.8101694915254237,\n",
       " 0.8,\n",
       " 0.8440677966101695,\n",
       " 0.8,\n",
       " 0.8135593220338984,\n",
       " 0.8101694915254237,\n",
       " 0.8372881355932204,\n",
       " 0.7796610169491526,\n",
       " 0.8305084745762712,\n",
       " 0.8033898305084746,\n",
       " 0.823728813559322,\n",
       " 0.8203389830508474,\n",
       " 0.8203389830508474,\n",
       " 0.8169491525423729,\n",
       " 0.8271186440677966,\n",
       " 0.8305084745762712,\n",
       " 0.8338983050847457,\n",
       " 0.7966101694915254,\n",
       " 0.823728813559322,\n",
       " 0.8305084745762712,\n",
       " 0.823728813559322,\n",
       " 0.8406779661016949,\n",
       " 0.7728813559322034,\n",
       " 0.823728813559322,\n",
       " 0.8271186440677966,\n",
       " 0.8338983050847457,\n",
       " 0.8169491525423729,\n",
       " 0.8271186440677966,\n",
       " 0.8338983050847457,\n",
       " 0.8135593220338984,\n",
       " 0.8135593220338984,\n",
       " 0.8305084745762712,\n",
       " 0.8406779661016949,\n",
       " 0.8338983050847457,\n",
       " 0.8067796610169492,\n",
       " 0.8067796610169492,\n",
       " 0.8033898305084746,\n",
       " 0.823728813559322,\n",
       " 0.8135593220338984,\n",
       " 0.8542372881355932,\n",
       " 0.8203389830508474,\n",
       " 0.7898305084745763,\n",
       " 0.8372881355932204,\n",
       " 0.8135593220338984,\n",
       " 0.8406779661016949,\n",
       " 0.8203389830508474,\n",
       " 0.7966101694915254,\n",
       " 0.8372881355932204,\n",
       " 0.7830508474576271,\n",
       " 0.8372881355932204,\n",
       " 0.8440677966101695,\n",
       " 0.8067796610169492,\n",
       " 0.8271186440677966,\n",
       " 0.8135593220338984,\n",
       " 0.8338983050847457,\n",
       " 0.8372881355932204,\n",
       " 0.8033898305084746,\n",
       " 0.7694915254237288,\n",
       " 0.8271186440677966,\n",
       " 0.823728813559322,\n",
       " 0.8135593220338984,\n",
       " 0.8271186440677966,\n",
       " 0.7830508474576271,\n",
       " 0.8135593220338984,\n",
       " 0.8203389830508474,\n",
       " 0.8203389830508474,\n",
       " 0.823728813559322,\n",
       " 0.7966101694915254,\n",
       " 0.8169491525423729,\n",
       " 0.823728813559322,\n",
       " 0.8338983050847457,\n",
       " 0.8271186440677966,\n",
       " 0.847457627118644,\n",
       " 0.8169491525423729,\n",
       " 0.8745762711864407,\n",
       " 0.823728813559322,\n",
       " 0.8203389830508474,\n",
       " 0.8305084745762712,\n",
       " 0.8101694915254237,\n",
       " 0.8338983050847457,\n",
       " 0.823728813559322,\n",
       " 0.8338983050847457,\n",
       " 0.8101694915254237,\n",
       " 0.8169491525423729,\n",
       " 0.8305084745762712,\n",
       " 0.8305084745762712,\n",
       " 0.847457627118644,\n",
       " 0.8067796610169492,\n",
       " 0.8338983050847457,\n",
       " 0.8135593220338984,\n",
       " 0.8101694915254237,\n",
       " 0.8101694915254237,\n",
       " 0.7966101694915254,\n",
       " 0.8,\n",
       " 0.823728813559322,\n",
       " 0.8338983050847457,\n",
       " 0.8033898305084746,\n",
       " 0.8271186440677966,\n",
       " 0.8406779661016949,\n",
       " 0.8338983050847457,\n",
       " 0.8406779661016949,\n",
       " 0.8135593220338984,\n",
       " 0.8067796610169492,\n",
       " 0.8067796610169492,\n",
       " 0.8305084745762712,\n",
       " 0.8338983050847457,\n",
       " 0.8033898305084746,\n",
       " 0.7864406779661017,\n",
       " 0.8271186440677966,\n",
       " 0.823728813559322,\n",
       " 0.8033898305084746,\n",
       " 0.8101694915254237,\n",
       " 0.847457627118644,\n",
       " 0.7898305084745763,\n",
       " 0.8101694915254237,\n",
       " 0.8372881355932204,\n",
       " 0.8406779661016949,\n",
       " 0.8135593220338984,\n",
       " 0.8305084745762712,\n",
       " 0.8,\n",
       " 0.8169491525423729,\n",
       " 0.8033898305084746,\n",
       " 0.8576271186440678,\n",
       " 0.8169491525423729,\n",
       " 0.8135593220338984,\n",
       " 0.8135593220338984,\n",
       " 0.8305084745762712,\n",
       " 0.8101694915254237,\n",
       " 0.8135593220338984,\n",
       " 0.7796610169491526,\n",
       " 0.8338983050847457,\n",
       " 0.8169491525423729,\n",
       " 0.8305084745762712,\n",
       " 0.8271186440677966,\n",
       " 0.8067796610169492,\n",
       " 0.7932203389830509,\n",
       " 0.823728813559322,\n",
       " 0.8067796610169492,\n",
       " 0.8067796610169492,\n",
       " 0.823728813559322,\n",
       " 0.7932203389830509,\n",
       " 0.8406779661016949,\n",
       " 0.8372881355932204,\n",
       " 0.8101694915254237,\n",
       " 0.8135593220338984,\n",
       " 0.8305084745762712,\n",
       " 0.8372881355932204,\n",
       " 0.7796610169491526,\n",
       " 0.8406779661016949,\n",
       " 0.8033898305084746,\n",
       " 0.8135593220338984,\n",
       " 0.8508474576271187,\n",
       " 0.823728813559322,\n",
       " 0.8203389830508474,\n",
       " 0.8406779661016949,\n",
       " 0.8440677966101695,\n",
       " 0.8135593220338984,\n",
       " 0.8338983050847457,\n",
       " 0.847457627118644,\n",
       " 0.8338983050847457,\n",
       " 0.8,\n",
       " 0.8169491525423729,\n",
       " 0.8406779661016949,\n",
       " 0.8305084745762712,\n",
       " 0.8406779661016949,\n",
       " 0.8135593220338984,\n",
       " 0.8135593220338984,\n",
       " 0.8305084745762712,\n",
       " 0.7661016949152543,\n",
       " 0.8338983050847457,\n",
       " 0.8,\n",
       " 0.8338983050847457,\n",
       " 0.8033898305084746,\n",
       " 0.8338983050847457,\n",
       " 0.8169491525423729,\n",
       " 0.7966101694915254,\n",
       " 0.8440677966101695,\n",
       " 0.8169491525423729,\n",
       " 0.8271186440677966,\n",
       " 0.823728813559322,\n",
       " 0.7762711864406779,\n",
       " 0.8135593220338984,\n",
       " 0.8372881355932204,\n",
       " 0.847457627118644,\n",
       " 0.7864406779661017,\n",
       " 0.8338983050847457,\n",
       " 0.8203389830508474,\n",
       " 0.8067796610169492,\n",
       " 0.8033898305084746,\n",
       " 0.823728813559322,\n",
       " 0.8,\n",
       " 0.823728813559322,\n",
       " 0.8169491525423729,\n",
       " 0.8305084745762712,\n",
       " 0.8067796610169492,\n",
       " 0.823728813559322,\n",
       " 0.8271186440677966,\n",
       " 0.8372881355932204,\n",
       " 0.8305084745762712,\n",
       " 0.8271186440677966,\n",
       " 0.8338983050847457,\n",
       " 0.8813559322033898,\n",
       " 0.8508474576271187,\n",
       " 0.7966101694915254,\n",
       " 0.8372881355932204,\n",
       " 0.8169491525423729,\n",
       " 0.8305084745762712,\n",
       " 0.8305084745762712,\n",
       " 0.8203389830508474,\n",
       " 0.8033898305084746,\n",
       " 0.823728813559322,\n",
       " 0.8033898305084746,\n",
       " 0.8440677966101695,\n",
       " 0.8305084745762712,\n",
       " 0.823728813559322,\n",
       " 0.8372881355932204,\n",
       " 0.7898305084745763,\n",
       " 0.7966101694915254,\n",
       " 0.8542372881355932,\n",
       " 0.8067796610169492,\n",
       " 0.8271186440677966,\n",
       " 0.8135593220338984,\n",
       " 0.8,\n",
       " 0.8,\n",
       " 0.7966101694915254,\n",
       " 0.8203389830508474,\n",
       " 0.8203389830508474,\n",
       " 0.847457627118644,\n",
       " 0.8067796610169492,\n",
       " 0.8135593220338984,\n",
       " 0.8067796610169492,\n",
       " 0.8338983050847457,\n",
       " 0.8203389830508474,\n",
       " 0.8203389830508474,\n",
       " 0.8406779661016949,\n",
       " 0.823728813559322,\n",
       " 0.8305084745762712,\n",
       " 0.8372881355932204,\n",
       " 0.8271186440677966,\n",
       " 0.847457627118644,\n",
       " 0.8067796610169492,\n",
       " 0.8067796610169492,\n",
       " 0.8,\n",
       " 0.8169491525423729,\n",
       " 0.7966101694915254,\n",
       " 0.8610169491525423,\n",
       " 0.8033898305084746,\n",
       " 0.8169491525423729,\n",
       " 0.823728813559322,\n",
       " 0.8271186440677966,\n",
       " 0.7966101694915254,\n",
       " 0.8203389830508474,\n",
       " 0.8135593220338984,\n",
       " 0.823728813559322,\n",
       " 0.7830508474576271,\n",
       " 0.8,\n",
       " 0.8542372881355932,\n",
       " 0.8440677966101695,\n",
       " 0.8406779661016949,\n",
       " 0.864406779661017,\n",
       " 0.7932203389830509,\n",
       " 0.8033898305084746,\n",
       " 0.8203389830508474,\n",
       " 0.823728813559322,\n",
       " 0.847457627118644,\n",
       " 0.8338983050847457,\n",
       " 0.8338983050847457,\n",
       " 0.8203389830508474,\n",
       " 0.8033898305084746,\n",
       " 0.8033898305084746,\n",
       " 0.8067796610169492,\n",
       " 0.8203389830508474,\n",
       " 0.8576271186440678,\n",
       " 0.8203389830508474,\n",
       " 0.823728813559322,\n",
       " 0.8169491525423729,\n",
       " 0.8101694915254237,\n",
       " 0.8,\n",
       " 0.7932203389830509,\n",
       " 0.8338983050847457,\n",
       " 0.8033898305084746,\n",
       " 0.8372881355932204,\n",
       " 0.8440677966101695,\n",
       " 0.8305084745762712,\n",
       " 0.8406779661016949,\n",
       " 0.8338983050847457,\n",
       " 0.8338983050847457,\n",
       " 0.8305084745762712,\n",
       " 0.8203389830508474,\n",
       " 0.8169491525423729,\n",
       " 0.8305084745762712,\n",
       " 0.8305084745762712,\n",
       " 0.8135593220338984,\n",
       " 0.8338983050847457,\n",
       " 0.823728813559322,\n",
       " 0.8406779661016949,\n",
       " 0.8305084745762712,\n",
       " 0.8101694915254237,\n",
       " 0.7898305084745763,\n",
       " 0.8271186440677966,\n",
       " 0.8033898305084746,\n",
       " 0.8338983050847457,\n",
       " 0.8406779661016949,\n",
       " 0.8610169491525423,\n",
       " 0.8305084745762712,\n",
       " 0.8271186440677966,\n",
       " 0.8033898305084746,\n",
       " 0.8440677966101695,\n",
       " 0.8372881355932204,\n",
       " 0.8033898305084746,\n",
       " 0.7966101694915254,\n",
       " 0.8271186440677966,\n",
       " 0.847457627118644,\n",
       " 0.8067796610169492,\n",
       " 0.8406779661016949,\n",
       " 0.7966101694915254,\n",
       " 0.8101694915254237,\n",
       " 0.8135593220338984,\n",
       " 0.8271186440677966,\n",
       " 0.8338983050847457,\n",
       " 0.8508474576271187,\n",
       " 0.8067796610169492,\n",
       " 0.8372881355932204,\n",
       " 0.8508474576271187,\n",
       " 0.8101694915254237,\n",
       " 0.8271186440677966,\n",
       " 0.8203389830508474,\n",
       " 0.823728813559322,\n",
       " 0.823728813559322,\n",
       " 0.823728813559322,\n",
       " 0.8406779661016949,\n",
       " 0.8271186440677966,\n",
       " 0.8135593220338984,\n",
       " 0.8203389830508474,\n",
       " 0.8271186440677966,\n",
       " 0.8305084745762712,\n",
       " 0.8338983050847457,\n",
       " 0.8305084745762712,\n",
       " 0.8406779661016949,\n",
       " 0.8203389830508474,\n",
       " 0.847457627118644,\n",
       " 0.7966101694915254,\n",
       " 0.8305084745762712,\n",
       " 0.7864406779661017,\n",
       " 0.8067796610169492,\n",
       " 0.8440677966101695,\n",
       " 0.8406779661016949,\n",
       " 0.8305084745762712,\n",
       " 0.8101694915254237,\n",
       " 0.8135593220338984,\n",
       " 0.8305084745762712,\n",
       " 0.8135593220338984,\n",
       " 0.7830508474576271,\n",
       " 0.8135593220338984,\n",
       " 0.847457627118644,\n",
       " 0.8305084745762712,\n",
       " 0.8406779661016949,\n",
       " 0.8305084745762712,\n",
       " 0.8542372881355932,\n",
       " 0.8169491525423729,\n",
       " 0.8169491525423729,\n",
       " 0.8406779661016949,\n",
       " 0.7932203389830509,\n",
       " 0.7796610169491526,\n",
       " 0.8,\n",
       " 0.8101694915254237,\n",
       " 0.8372881355932204,\n",
       " 0.8406779661016949,\n",
       " 0.8,\n",
       " 0.8271186440677966,\n",
       " 0.8508474576271187,\n",
       " 0.8169491525423729,\n",
       " 0.8372881355932204,\n",
       " 0.8271186440677966,\n",
       " 0.8135593220338984,\n",
       " 0.8338983050847457,\n",
       " 0.847457627118644,\n",
       " 0.8033898305084746,\n",
       " 0.8338983050847457,\n",
       " 0.8305084745762712,\n",
       " 0.8271186440677966,\n",
       " 0.847457627118644,\n",
       " 0.8406779661016949,\n",
       " 0.8271186440677966,\n",
       " 0.8372881355932204,\n",
       " 0.8440677966101695,\n",
       " 0.847457627118644,\n",
       " 0.8101694915254237,\n",
       " 0.8271186440677966,\n",
       " 0.8271186440677966,\n",
       " 0.8203389830508474,\n",
       " 0.8406779661016949,\n",
       " 0.8305084745762712,\n",
       " 0.8406779661016949,\n",
       " 0.8305084745762712,\n",
       " 0.8033898305084746,\n",
       " 0.8169491525423729,\n",
       " 0.8372881355932204,\n",
       " 0.847457627118644,\n",
       " 0.8338983050847457,\n",
       " 0.8169491525423729,\n",
       " 0.7898305084745763,\n",
       " 0.8169491525423729,\n",
       " 0.8067796610169492,\n",
       " 0.8406779661016949,\n",
       " 0.8338983050847457,\n",
       " 0.8203389830508474,\n",
       " 0.8169491525423729,\n",
       " 0.8169491525423729,\n",
       " 0.847457627118644,\n",
       " 0.7966101694915254,\n",
       " 0.8338983050847457,\n",
       " 0.823728813559322,\n",
       " 0.8169491525423729,\n",
       " 0.8338983050847457,\n",
       " 0.8169491525423729,\n",
       " 0.8372881355932204,\n",
       " 0.8576271186440678,\n",
       " 0.8271186440677966,\n",
       " 0.8271186440677966,\n",
       " 0.7898305084745763,\n",
       " 0.8135593220338984,\n",
       " 0.7932203389830509,\n",
       " 0.8203389830508474,\n",
       " 0.8135593220338984,\n",
       " 0.8305084745762712,\n",
       " 0.847457627118644,\n",
       " 0.8135593220338984,\n",
       " 0.8610169491525423,\n",
       " 0.847457627118644,\n",
       " 0.8372881355932204,\n",
       " 0.8,\n",
       " 0.7966101694915254,\n",
       " 0.823728813559322,\n",
       " 0.8406779661016949,\n",
       " 0.8169491525423729,\n",
       " 0.8406779661016949,\n",
       " 0.8169491525423729,\n",
       " 0.823728813559322,\n",
       " 0.8576271186440678,\n",
       " 0.8271186440677966,\n",
       " 0.8406779661016949,\n",
       " 0.8033898305084746,\n",
       " 0.8338983050847457,\n",
       " 0.8135593220338984,\n",
       " 0.8338983050847457,\n",
       " 0.8033898305084746,\n",
       " 0.8203389830508474,\n",
       " 0.8406779661016949,\n",
       " 0.8169491525423729,\n",
       " 0.8135593220338984,\n",
       " 0.8,\n",
       " 0.8101694915254237,\n",
       " 0.7966101694915254,\n",
       " 0.8305084745762712,\n",
       " 0.8169491525423729,\n",
       " 0.8271186440677966,\n",
       " 0.8203389830508474,\n",
       " 0.847457627118644,\n",
       " 0.8169491525423729,\n",
       " 0.847457627118644,\n",
       " 0.8067796610169492,\n",
       " 0.8,\n",
       " 0.864406779661017,\n",
       " 0.847457627118644,\n",
       " 0.8406779661016949,\n",
       " 0.823728813559322,\n",
       " 0.8135593220338984,\n",
       " 0.8305084745762712,\n",
       " 0.7932203389830509,\n",
       " 0.8440677966101695,\n",
       " 0.8135593220338984,\n",
       " 0.8305084745762712,\n",
       " 0.7966101694915254,\n",
       " 0.8169491525423729,\n",
       " 0.8067796610169492,\n",
       " 0.8101694915254237,\n",
       " 0.8305084745762712,\n",
       " 0.823728813559322,\n",
       " 0.7932203389830509,\n",
       " 0.8271186440677966,\n",
       " 0.8440677966101695,\n",
       " 0.8203389830508474,\n",
       " 0.847457627118644,\n",
       " 0.8508474576271187,\n",
       " 0.8271186440677966,\n",
       " 0.8372881355932204,\n",
       " 0.8101694915254237,\n",
       " 0.7966101694915254,\n",
       " 0.847457627118644,\n",
       " 0.7966101694915254,\n",
       " 0.7864406779661017,\n",
       " 0.8305084745762712,\n",
       " 0.8033898305084746,\n",
       " 0.8338983050847457,\n",
       " 0.8271186440677966,\n",
       " 0.8,\n",
       " 0.8135593220338984,\n",
       " 0.8135593220338984,\n",
       " 0.8203389830508474,\n",
       " 0.823728813559322,\n",
       " 0.8305084745762712,\n",
       " 0.8508474576271187,\n",
       " 0.8135593220338984,\n",
       " 0.8305084745762712,\n",
       " 0.8203389830508474,\n",
       " 0.8203389830508474,\n",
       " 0.7932203389830509,\n",
       " 0.8203389830508474,\n",
       " 0.8271186440677966,\n",
       " 0.8271186440677966,\n",
       " 0.8711864406779661,\n",
       " 0.8,\n",
       " 0.8271186440677966,\n",
       " 0.8372881355932204,\n",
       " 0.8271186440677966,\n",
       " 0.8542372881355932,\n",
       " 0.8101694915254237,\n",
       " 0.8372881355932204,\n",
       " 0.8338983050847457,\n",
       " 0.8305084745762712,\n",
       " 0.823728813559322,\n",
       " 0.8203389830508474,\n",
       " 0.8406779661016949,\n",
       " 0.8576271186440678,\n",
       " 0.8372881355932204,\n",
       " 0.8508474576271187,\n",
       " 0.8067796610169492,\n",
       " 0.8203389830508474,\n",
       " 0.8305084745762712,\n",
       " 0.8135593220338984,\n",
       " 0.8135593220338984,\n",
       " 0.847457627118644,\n",
       " 0.8338983050847457,\n",
       " 0.8305084745762712,\n",
       " 0.8508474576271187,\n",
       " 0.8135593220338984,\n",
       " 0.8135593220338984,\n",
       " 0.8305084745762712,\n",
       " 0.823728813559322,\n",
       " 0.823728813559322,\n",
       " 0.8542372881355932,\n",
       " 0.8271186440677966,\n",
       " 0.8,\n",
       " 0.8576271186440678,\n",
       " 0.8271186440677966,\n",
       " 0.8372881355932204,\n",
       " 0.8305084745762712,\n",
       " 0.8305084745762712,\n",
       " 0.7661016949152543,\n",
       " 0.8406779661016949,\n",
       " 0.8271186440677966,\n",
       " 0.8542372881355932,\n",
       " 0.8135593220338984,\n",
       " 0.8067796610169492,\n",
       " 0.8101694915254237,\n",
       " 0.8101694915254237,\n",
       " 0.8338983050847457,\n",
       " 0.8135593220338984,\n",
       " 0.8203389830508474,\n",
       " 0.8,\n",
       " 0.8135593220338984,\n",
       " 0.8406779661016949,\n",
       " 0.8406779661016949,\n",
       " 0.8203389830508474,\n",
       " 0.8576271186440678,\n",
       " 0.8067796610169492,\n",
       " 0.823728813559322,\n",
       " 0.8203389830508474,\n",
       " 0.847457627118644,\n",
       " 0.847457627118644,\n",
       " 0.7898305084745763,\n",
       " 0.8101694915254237,\n",
       " 0.8203389830508474,\n",
       " 0.8271186440677966,\n",
       " 0.864406779661017,\n",
       " 0.8271186440677966,\n",
       " 0.8203389830508474,\n",
       " 0.8,\n",
       " 0.8440677966101695,\n",
       " 0.8,\n",
       " 0.8305084745762712,\n",
       " 0.8135593220338984,\n",
       " 0.8271186440677966,\n",
       " 0.8169491525423729,\n",
       " 0.7966101694915254,\n",
       " 0.8067796610169492,\n",
       " 0.8033898305084746,\n",
       " 0.8067796610169492,\n",
       " 0.8372881355932204,\n",
       " 0.8508474576271187,\n",
       " 0.823728813559322,\n",
       " 0.823728813559322,\n",
       " 0.8203389830508474,\n",
       " 0.8271186440677966,\n",
       " 0.8271186440677966,\n",
       " 0.8033898305084746,\n",
       " 0.8033898305084746,\n",
       " 0.8677966101694915,\n",
       " 0.8101694915254237,\n",
       " 0.8033898305084746,\n",
       " 0.8372881355932204,\n",
       " 0.847457627118644,\n",
       " 0.8508474576271187,\n",
       " 0.8135593220338984,\n",
       " 0.8271186440677966,\n",
       " 0.8305084745762712,\n",
       " 0.8203389830508474,\n",
       " 0.8067796610169492,\n",
       " 0.8271186440677966,\n",
       " 0.7966101694915254,\n",
       " 0.8067796610169492,\n",
       " 0.8101694915254237,\n",
       " 0.7932203389830509,\n",
       " 0.823728813559322,\n",
       " 0.7966101694915254,\n",
       " 0.8033898305084746,\n",
       " 0.8,\n",
       " 0.8305084745762712,\n",
       " 0.8305084745762712,\n",
       " 0.8440677966101695,\n",
       " 0.8271186440677966,\n",
       " 0.8101694915254237,\n",
       " 0.7864406779661017,\n",
       " 0.8033898305084746,\n",
       " 0.8271186440677966,\n",
       " 0.8,\n",
       " 0.8169491525423729,\n",
       " 0.8338983050847457,\n",
       " 0.8372881355932204,\n",
       " 0.8,\n",
       " 0.8508474576271187,\n",
       " 0.8406779661016949,\n",
       " 0.823728813559322,\n",
       " 0.8135593220338984,\n",
       " 0.823728813559322,\n",
       " 0.8508474576271187,\n",
       " 0.8508474576271187,\n",
       " 0.8033898305084746,\n",
       " 0.8033898305084746,\n",
       " 0.8,\n",
       " 0.8711864406779661,\n",
       " 0.8271186440677966,\n",
       " 0.8440677966101695,\n",
       " 0.8101694915254237,\n",
       " 0.847457627118644,\n",
       " 0.8169491525423729,\n",
       " 0.8440677966101695,\n",
       " 0.8067796610169492,\n",
       " 0.864406779661017,\n",
       " 0.8338983050847457,\n",
       " 0.8440677966101695,\n",
       " 0.8406779661016949,\n",
       " 0.8169491525423729,\n",
       " 0.8338983050847457,\n",
       " 0.8203389830508474,\n",
       " 0.8271186440677966,\n",
       " 0.8372881355932204,\n",
       " 0.8033898305084746,\n",
       " 0.8372881355932204,\n",
       " 0.847457627118644,\n",
       " 0.823728813559322,\n",
       " 0.8338983050847457,\n",
       " 0.8135593220338984,\n",
       " 0.864406779661017,\n",
       " 0.823728813559322,\n",
       " 0.8305084745762712,\n",
       " 0.7966101694915254,\n",
       " 0.8169491525423729,\n",
       " 0.8338983050847457,\n",
       " 0.8271186440677966,\n",
       " 0.8338983050847457,\n",
       " 0.8033898305084746,\n",
       " 0.7762711864406779,\n",
       " 0.8406779661016949,\n",
       " 0.8406779661016949,\n",
       " 0.8101694915254237,\n",
       " 0.8406779661016949,\n",
       " 0.7864406779661017,\n",
       " 0.8338983050847457,\n",
       " 0.7830508474576271,\n",
       " 0.8440677966101695,\n",
       " 0.8169491525423729,\n",
       " 0.8440677966101695,\n",
       " 0.8,\n",
       " 0.823728813559322,\n",
       " 0.8406779661016949,\n",
       " 0.8203389830508474,\n",
       " 0.8406779661016949,\n",
       " 0.8169491525423729,\n",
       " 0.847457627118644,\n",
       " 0.823728813559322,\n",
       " 0.8101694915254237,\n",
       " 0.8135593220338984,\n",
       " 0.8169491525423729,\n",
       " 0.8033898305084746,\n",
       " 0.8101694915254237,\n",
       " 0.8271186440677966,\n",
       " 0.8372881355932204,\n",
       " 0.8271186440677966,\n",
       " 0.8406779661016949,\n",
       " 0.8338983050847457,\n",
       " 0.8169491525423729,\n",
       " 0.8,\n",
       " 0.8271186440677966,\n",
       " 0.8135593220338984,\n",
       " 0.8271186440677966,\n",
       " 0.8135593220338984,\n",
       " 0.8271186440677966,\n",
       " 0.8338983050847457,\n",
       " 0.8135593220338984,\n",
       " 0.7864406779661017,\n",
       " 0.8440677966101695,\n",
       " 0.8338983050847457,\n",
       " 0.8305084745762712,\n",
       " 0.8372881355932204,\n",
       " 0.8,\n",
       " 0.8745762711864407,\n",
       " 0.8169491525423729,\n",
       " 0.8169491525423729,\n",
       " 0.823728813559322,\n",
       " 0.8406779661016949,\n",
       " 0.8305084745762712,\n",
       " 0.847457627118644,\n",
       " 0.8169491525423729,\n",
       " 0.8406779661016949,\n",
       " 0.8203389830508474,\n",
       " 0.7728813559322034,\n",
       " 0.8406779661016949,\n",
       " 0.8067796610169492,\n",
       " 0.8101694915254237,\n",
       " 0.8271186440677966,\n",
       " 0.864406779661017,\n",
       " 0.8135593220338984,\n",
       " 0.8338983050847457,\n",
       " 0.823728813559322,\n",
       " 0.8033898305084746,\n",
       " 0.8,\n",
       " 0.8271186440677966,\n",
       " 0.8169491525423729,\n",
       " 0.8305084745762712,\n",
       " 0.8135593220338984,\n",
       " 0.8169491525423729,\n",
       " 0.8542372881355932,\n",
       " 0.8169491525423729,\n",
       " 0.8338983050847457,\n",
       " 0.8169491525423729,\n",
       " 0.7627118644067796,\n",
       " 0.823728813559322,\n",
       " 0.8033898305084746,\n",
       " 0.8372881355932204,\n",
       " 0.823728813559322,\n",
       " 0.8440677966101695,\n",
       " 0.8203389830508474,\n",
       " 0.7966101694915254,\n",
       " 0.8135593220338984,\n",
       " 0.8203389830508474,\n",
       " 0.823728813559322,\n",
       " 0.8169491525423729,\n",
       " 0.8203389830508474,\n",
       " 0.8203389830508474,\n",
       " 0.8542372881355932,\n",
       " 0.8372881355932204,\n",
       " 0.8169491525423729,\n",
       " 0.8372881355932204,\n",
       " 0.8305084745762712,\n",
       " 0.864406779661017,\n",
       " 0.8338983050847457,\n",
       " 0.8169491525423729,\n",
       " 0.8169491525423729,\n",
       " 0.8406779661016949,\n",
       " 0.8067796610169492,\n",
       " 0.8372881355932204,\n",
       " 0.8372881355932204,\n",
       " 0.8203389830508474,\n",
       " 0.8338983050847457,\n",
       " 0.8305084745762712,\n",
       " 0.7932203389830509,\n",
       " 0.8271186440677966,\n",
       " 0.8372881355932204,\n",
       " 0.8271186440677966,\n",
       " 0.8338983050847457,\n",
       " 0.823728813559322,\n",
       " 0.8305084745762712,\n",
       " 0.8203389830508474,\n",
       " 0.8271186440677966,\n",
       " 0.8169491525423729,\n",
       " 0.7932203389830509,\n",
       " 0.847457627118644,\n",
       " 0.8542372881355932,\n",
       " 0.8203389830508474,\n",
       " 0.8135593220338984,\n",
       " 0.7796610169491526,\n",
       " 0.8406779661016949,\n",
       " 0.847457627118644,\n",
       " 0.8203389830508474,\n",
       " 0.8169491525423729,\n",
       " 0.7966101694915254,\n",
       " 0.8169491525423729,\n",
       " 0.8135593220338984,\n",
       " 0.823728813559322]"
      ]
     },
     "execution_count": 124,
     "metadata": {},
     "output_type": "execute_result"
    }
   ],
   "source": [
    "model_scores"
   ]
  },
  {
   "cell_type": "code",
   "execution_count": 125,
   "id": "8dc4cf5f",
   "metadata": {},
   "outputs": [
    {
     "data": {
      "text/plain": [
       "400"
      ]
     },
     "execution_count": 125,
     "metadata": {},
     "output_type": "execute_result"
    }
   ],
   "source": [
    "np.argmax(model_scores)"
   ]
  },
  {
   "cell_type": "code",
   "execution_count": 126,
   "id": "870be237",
   "metadata": {},
   "outputs": [
    {
     "data": {
      "text/plain": [
       "0.8813559322033898"
      ]
     },
     "execution_count": 126,
     "metadata": {},
     "output_type": "execute_result"
    }
   ],
   "source": [
    "model_scores[400]"
   ]
  },
  {
   "cell_type": "markdown",
   "id": "712d267a",
   "metadata": {},
   "source": [
    "### Conclusion from at random_state=400 we are getting the best model score.."
   ]
  },
  {
   "cell_type": "code",
   "execution_count": 127,
   "id": "548bc686",
   "metadata": {},
   "outputs": [],
   "source": [
    "X_train, X_test, y_train, y_test = train_test_split(scaled_X, y, test_size=0.33, random_state=400)"
   ]
  },
  {
   "cell_type": "code",
   "execution_count": 128,
   "id": "da92b0bd",
   "metadata": {},
   "outputs": [
    {
     "data": {
      "text/plain": [
       "SVC(C=1, gamma=1, kernel='poly')"
      ]
     },
     "execution_count": 128,
     "metadata": {},
     "output_type": "execute_result"
    }
   ],
   "source": [
    "model.fit(X_train,y_train)"
   ]
  },
  {
   "cell_type": "code",
   "execution_count": 129,
   "id": "71b673d1",
   "metadata": {},
   "outputs": [
    {
     "data": {
      "text/plain": [
       "0.8813559322033898"
      ]
     },
     "execution_count": 129,
     "metadata": {},
     "output_type": "execute_result"
    }
   ],
   "source": [
    "model.score(X_test,y_test)"
   ]
  },
  {
   "cell_type": "code",
   "execution_count": 130,
   "id": "24748095",
   "metadata": {},
   "outputs": [],
   "source": [
    "model_pred=model.predict(X_test)"
   ]
  },
  {
   "cell_type": "code",
   "execution_count": 131,
   "id": "2814da6e",
   "metadata": {},
   "outputs": [
    {
     "name": "stdout",
     "output_type": "stream",
     "text": [
      "[[180  10]\n",
      " [ 25  80]]\n",
      "              precision    recall  f1-score   support\n",
      "\n",
      "           0       0.88      0.95      0.91       190\n",
      "           1       0.89      0.76      0.82       105\n",
      "\n",
      "    accuracy                           0.88       295\n",
      "   macro avg       0.88      0.85      0.87       295\n",
      "weighted avg       0.88      0.88      0.88       295\n",
      "\n"
     ]
    }
   ],
   "source": [
    "print(confusion_matrix(y_test,model_pred))\n",
    "print(classification_report(y_test,model_pred))"
   ]
  },
  {
   "cell_type": "code",
   "execution_count": null,
   "id": "b57f2ac9",
   "metadata": {},
   "outputs": [],
   "source": []
  }
 ],
 "metadata": {
  "kernelspec": {
   "display_name": "Python 3 (ipykernel)",
   "language": "python",
   "name": "python3"
  },
  "language_info": {
   "codemirror_mode": {
    "name": "ipython",
    "version": 3
   },
   "file_extension": ".py",
   "mimetype": "text/x-python",
   "name": "python",
   "nbconvert_exporter": "python",
   "pygments_lexer": "ipython3",
   "version": "3.9.7"
  }
 },
 "nbformat": 4,
 "nbformat_minor": 5
}
